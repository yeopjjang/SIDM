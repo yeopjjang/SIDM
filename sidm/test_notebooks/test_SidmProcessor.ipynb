{
 "cells": [
  {
   "cell_type": "code",
   "execution_count": 1,
   "id": "f69faf8a-a712-4d71-a610-feee40fb8529",
   "metadata": {
    "tags": []
   },
   "outputs": [],
   "source": [
    "# python\n",
    "import sys\n",
    "import importlib\n",
    "# columnar analysis\n",
    "from coffea.nanoevents import NanoAODSchema\n",
    "from coffea import processor\n",
    "# local\n",
    "sidm_path = str(sys.path[0]).split(\"/sidm\")[0]\n",
    "if sidm_path not in sys.path: sys.path.insert(1, sidm_path)\n",
    "from sidm.tools import sidm_processor, utilities\n",
    "#from sidm.tools import llpnanoaodschema_0726 as llpnanoaodschema\n",
    "# always reload local modules to pick up changes during development\n",
    "importlib.reload(sidm_processor)\n",
    "importlib.reload(utilities)\n",
    "# plotting\n",
    "import matplotlib.pyplot as plt\n",
    "utilities.set_plot_style()"
   ]
  },
  {
   "cell_type": "code",
   "execution_count": 2,
   "id": "d67db205-7dc5-42b8-b10c-e6e7cbc7602a",
   "metadata": {
    "tags": []
   },
   "outputs": [
    {
     "data": {
      "application/vnd.jupyter.widget-view+json": {
       "model_id": "6600cf66ebcb4dfd9b6c4ecd5c085b83",
       "version_major": 2,
       "version_minor": 0
      },
      "text/plain": [
       "Output()"
      ]
     },
     "metadata": {},
     "output_type": "display_data"
    },
    {
     "data": {
      "text/html": [
       "<pre style=\"white-space:pre;overflow-x:auto;line-height:normal;font-family:Menlo,'DejaVu Sans Mono',consolas,'Courier New',monospace\"></pre>\n"
      ],
      "text/plain": []
     },
     "metadata": {},
     "output_type": "display_data"
    },
    {
     "data": {
      "application/vnd.jupyter.widget-view+json": {
       "model_id": "b3b7d4d30b8f42af968c6707f18dfc3f",
       "version_major": 2,
       "version_minor": 0
      },
      "text/plain": [
       "Output()"
      ]
     },
     "metadata": {},
     "output_type": "display_data"
    },
    {
     "data": {
      "text/html": [
       "<pre style=\"white-space:pre;overflow-x:auto;line-height:normal;font-family:Menlo,'DejaVu Sans Mono',consolas,'Courier New',monospace\">/usr/local/lib/python3.10/site-packages/coffea/nanoevents/schemas/nanoaod.py:205: RuntimeWarning: Missing \n",
       "cross-reference index for LowPtElectron_electronIdx =&gt; Electron\n",
       "  warnings.warn(\n",
       "</pre>\n"
      ],
      "text/plain": [
       "/usr/local/lib/python3.10/site-packages/coffea/nanoevents/schemas/nanoaod.py:205: RuntimeWarning: Missing \n",
       "cross-reference index for LowPtElectron_electronIdx => Electron\n",
       "  warnings.warn(\n"
      ]
     },
     "metadata": {},
     "output_type": "display_data"
    },
    {
     "data": {
      "text/html": [
       "<pre style=\"white-space:pre;overflow-x:auto;line-height:normal;font-family:Menlo,'DejaVu Sans Mono',consolas,'Courier New',monospace\">/usr/local/lib/python3.10/site-packages/coffea/nanoevents/schemas/nanoaod.py:205: RuntimeWarning: Missing \n",
       "cross-reference index for LowPtElectron_photonIdx =&gt; Photon\n",
       "  warnings.warn(\n",
       "</pre>\n"
      ],
      "text/plain": [
       "/usr/local/lib/python3.10/site-packages/coffea/nanoevents/schemas/nanoaod.py:205: RuntimeWarning: Missing \n",
       "cross-reference index for LowPtElectron_photonIdx => Photon\n",
       "  warnings.warn(\n"
      ]
     },
     "metadata": {},
     "output_type": "display_data"
    },
    {
     "data": {
      "text/html": [
       "<pre style=\"white-space:pre;overflow-x:auto;line-height:normal;font-family:Menlo,'DejaVu Sans Mono',consolas,'Courier New',monospace\">/usr/local/lib/python3.10/site-packages/awkward/_connect/_numpy.py:197: RuntimeWarning: invalid value encountered \n",
       "in divide\n",
       "  result = getattr(ufunc, method)(\n",
       "</pre>\n"
      ],
      "text/plain": [
       "/usr/local/lib/python3.10/site-packages/awkward/_connect/_numpy.py:197: RuntimeWarning: invalid value encountered \n",
       "in divide\n",
       "  result = getattr(ufunc, method)(\n"
      ]
     },
     "metadata": {},
     "output_type": "display_data"
    },
    {
     "data": {
      "text/html": [
       "<pre style=\"white-space:pre;overflow-x:auto;line-height:normal;font-family:Menlo,'DejaVu Sans Mono',consolas,'Courier New',monospace\">Applying genMus status 1\n",
       "</pre>\n"
      ],
      "text/plain": [
       "Applying genMus status 1\n"
      ]
     },
     "metadata": {},
     "output_type": "display_data"
    },
    {
     "data": {
      "text/html": [
       "<pre style=\"white-space:pre;overflow-x:auto;line-height:normal;font-family:Menlo,'DejaVu Sans Mono',consolas,'Courier New',monospace\">Applying genEs status 1\n",
       "</pre>\n"
      ],
      "text/plain": [
       "Applying genEs status 1\n"
      ]
     },
     "metadata": {},
     "output_type": "display_data"
    },
    {
     "data": {
      "text/html": [
       "<pre style=\"white-space:pre;overflow-x:auto;line-height:normal;font-family:Menlo,'DejaVu Sans Mono',consolas,'Courier New',monospace\">Applying electrons pT &gt; 10 GeV\n",
       "</pre>\n"
      ],
      "text/plain": [
       "Applying electrons pT > 10 GeV\n"
      ]
     },
     "metadata": {},
     "output_type": "display_data"
    },
    {
     "data": {
      "text/html": [
       "<pre style=\"white-space:pre;overflow-x:auto;line-height:normal;font-family:Menlo,'DejaVu Sans Mono',consolas,'Courier New',monospace\">Applying electrons |eta| &lt; 2.4\n",
       "</pre>\n"
      ],
      "text/plain": [
       "Applying electrons |eta| < 2.4\n"
      ]
     },
     "metadata": {},
     "output_type": "display_data"
    },
    {
     "data": {
      "text/html": [
       "<pre style=\"white-space:pre;overflow-x:auto;line-height:normal;font-family:Menlo,'DejaVu Sans Mono',consolas,'Courier New',monospace\">Applying electrons MVANonIsoWPL\n",
       "</pre>\n"
      ],
      "text/plain": [
       "Applying electrons MVANonIsoWPL\n"
      ]
     },
     "metadata": {},
     "output_type": "display_data"
    },
    {
     "data": {
      "text/html": [
       "<pre style=\"white-space:pre;overflow-x:auto;line-height:normal;font-family:Menlo,'DejaVu Sans Mono',consolas,'Courier New',monospace\">Applying muons looseID\n",
       "</pre>\n"
      ],
      "text/plain": [
       "Applying muons looseID\n"
      ]
     },
     "metadata": {},
     "output_type": "display_data"
    },
    {
     "data": {
      "text/html": [
       "<pre style=\"white-space:pre;overflow-x:auto;line-height:normal;font-family:Menlo,'DejaVu Sans Mono',consolas,'Courier New',monospace\">Applying muons pT &gt; 5 GeV\n",
       "</pre>\n"
      ],
      "text/plain": [
       "Applying muons pT > 5 GeV\n"
      ]
     },
     "metadata": {},
     "output_type": "display_data"
    },
    {
     "data": {
      "text/html": [
       "<pre style=\"white-space:pre;overflow-x:auto;line-height:normal;font-family:Menlo,'DejaVu Sans Mono',consolas,'Courier New',monospace\">Applying muons |eta| &lt; 2.4\n",
       "</pre>\n"
      ],
      "text/plain": [
       "Applying muons |eta| < 2.4\n"
      ]
     },
     "metadata": {},
     "output_type": "display_data"
    },
    {
     "data": {
      "text/html": [
       "<pre style=\"white-space:pre;overflow-x:auto;line-height:normal;font-family:Menlo,'DejaVu Sans Mono',consolas,'Courier New',monospace\">Applying photons pT &gt; 20 GeV\n",
       "</pre>\n"
      ],
      "text/plain": [
       "Applying photons pT > 20 GeV\n"
      ]
     },
     "metadata": {},
     "output_type": "display_data"
    },
    {
     "data": {
      "text/html": [
       "<pre style=\"white-space:pre;overflow-x:auto;line-height:normal;font-family:Menlo,'DejaVu Sans Mono',consolas,'Courier New',monospace\">Applying photons |eta| &lt; 2.5\n",
       "</pre>\n"
      ],
      "text/plain": [
       "Applying photons |eta| < 2.5\n"
      ]
     },
     "metadata": {},
     "output_type": "display_data"
    },
    {
     "data": {
      "text/html": [
       "<pre style=\"white-space:pre;overflow-x:auto;line-height:normal;font-family:Menlo,'DejaVu Sans Mono',consolas,'Courier New',monospace\">Applying photons Custom Cutbased\n",
       "</pre>\n"
      ],
      "text/plain": [
       "Applying photons Custom Cutbased\n"
      ]
     },
     "metadata": {},
     "output_type": "display_data"
    },
    {
     "data": {
      "text/html": [
       "<pre style=\"white-space:pre;overflow-x:auto;line-height:normal;font-family:Menlo,'DejaVu Sans Mono',consolas,'Courier New',monospace\">Applying photons pixelSeed\n",
       "</pre>\n"
      ],
      "text/plain": [
       "Applying photons pixelSeed\n"
      ]
     },
     "metadata": {},
     "output_type": "display_data"
    },
    {
     "data": {
      "text/html": [
       "<pre style=\"white-space:pre;overflow-x:auto;line-height:normal;font-family:Menlo,'DejaVu Sans Mono',consolas,'Courier New',monospace\">Applying photons Photon DR Veto 0p025\n",
       "</pre>\n"
      ],
      "text/plain": [
       "Applying photons Photon DR Veto 0p025\n"
      ]
     },
     "metadata": {},
     "output_type": "display_data"
    },
    {
     "data": {
      "text/html": [
       "<pre style=\"white-space:pre;overflow-x:auto;line-height:normal;font-family:Menlo,'DejaVu Sans Mono',consolas,'Courier New',monospace\">Applying dsaMuons pT &gt; 10 GeV\n",
       "</pre>\n"
      ],
      "text/plain": [
       "Applying dsaMuons pT > 10 GeV\n"
      ]
     },
     "metadata": {},
     "output_type": "display_data"
    },
    {
     "data": {
      "text/html": [
       "<pre style=\"white-space:pre;overflow-x:auto;line-height:normal;font-family:Menlo,'DejaVu Sans Mono',consolas,'Courier New',monospace\">Applying dsaMuons |eta| &lt; 2.4\n",
       "</pre>\n"
      ],
      "text/plain": [
       "Applying dsaMuons |eta| < 2.4\n"
      ]
     },
     "metadata": {},
     "output_type": "display_data"
    },
    {
     "data": {
      "text/html": [
       "<pre style=\"white-space:pre;overflow-x:auto;line-height:normal;font-family:Menlo,'DejaVu Sans Mono',consolas,'Courier New',monospace\">Applying dsaMuons displaced ID\n",
       "</pre>\n"
      ],
      "text/plain": [
       "Applying dsaMuons displaced ID\n"
      ]
     },
     "metadata": {},
     "output_type": "display_data"
    },
    {
     "data": {
      "text/html": [
       "<pre style=\"white-space:pre;overflow-x:auto;line-height:normal;font-family:Menlo,'DejaVu Sans Mono',consolas,'Courier New',monospace\">Applying dsaMuons dR(dsa, pf) &gt; 0.2\n",
       "</pre>\n"
      ],
      "text/plain": [
       "Applying dsaMuons dR(dsa, pf) > 0.2\n"
      ]
     },
     "metadata": {},
     "output_type": "display_data"
    },
    {
     "name": "stdout",
     "output_type": "stream",
     "text": [
      "#--------------------------------------------------------------------------\n",
      "#                         FastJet release 3.4.0\n",
      "#                 M. Cacciari, G.P. Salam and G. Soyez                  \n",
      "#     A software package for jet finding and analysis at colliders      \n",
      "#                           http://fastjet.fr                           \n",
      "#\t                                                                      \n",
      "# Please cite EPJC72(2012)1896 [arXiv:1111.6097] if you use this package\n",
      "# for scientific work and optionally PLB641(2006)57 [hep-ph/0512210].   \n",
      "#                                                                       \n",
      "# FastJet is provided without warranty under the GNU GPL v2 or higher.  \n",
      "# It uses T. Chan's closest pair algorithm, S. Fortune's Voronoi code,\n",
      "# CGAL and 3rd party plugin jet algorithms. See COPYING file for details.\n",
      "#--------------------------------------------------------------------------\n"
     ]
    },
    {
     "data": {
      "text/html": [
       "<pre style=\"white-space:pre;overflow-x:auto;line-height:normal;font-family:Menlo,'DejaVu Sans Mono',consolas,'Courier New',monospace\">Applying ljs pT &gt; 30 GeV\n",
       "</pre>\n"
      ],
      "text/plain": [
       "Applying ljs pT > 30 GeV\n"
      ]
     },
     "metadata": {},
     "output_type": "display_data"
    },
    {
     "data": {
      "text/html": [
       "<pre style=\"white-space:pre;overflow-x:auto;line-height:normal;font-family:Menlo,'DejaVu Sans Mono',consolas,'Courier New',monospace\">Applying ljs |eta| &lt; 2.4\n",
       "</pre>\n"
      ],
      "text/plain": [
       "Applying ljs |eta| < 2.4\n"
      ]
     },
     "metadata": {},
     "output_type": "display_data"
    },
    {
     "data": {
      "text/html": [
       "<pre style=\"white-space:pre;overflow-x:auto;line-height:normal;font-family:Menlo,'DejaVu Sans Mono',consolas,'Courier New',monospace\">Applying ljs mu_charge == 0\n",
       "</pre>\n"
      ],
      "text/plain": [
       "Applying ljs mu_charge == 0\n"
      ]
     },
     "metadata": {},
     "output_type": "display_data"
    },
    {
     "data": {
      "text/html": [
       "<pre style=\"white-space:pre;overflow-x:auto;line-height:normal;font-family:Menlo,'DejaVu Sans Mono',consolas,'Courier New',monospace\">Applying cut: pass triggers\n",
       "</pre>\n"
      ],
      "text/plain": [
       "Applying cut: pass triggers\n"
      ]
     },
     "metadata": {},
     "output_type": "display_data"
    },
    {
     "data": {
      "text/html": [
       "<pre style=\"white-space:pre;overflow-x:auto;line-height:normal;font-family:Menlo,'DejaVu Sans Mono',consolas,'Courier New',monospace\">Applying cut: PV filter\n",
       "</pre>\n"
      ],
      "text/plain": [
       "Applying cut: PV filter\n"
      ]
     },
     "metadata": {},
     "output_type": "display_data"
    },
    {
     "data": {
      "text/html": [
       "<pre style=\"white-space:pre;overflow-x:auto;line-height:normal;font-family:Menlo,'DejaVu Sans Mono',consolas,'Courier New',monospace\">Applying cut: &gt;=2 LJs\n",
       "</pre>\n"
      ],
      "text/plain": [
       "Applying cut: >=2 LJs\n"
      ]
     },
     "metadata": {},
     "output_type": "display_data"
    },
    {
     "data": {
      "text/html": [
       "<pre style=\"white-space:pre;overflow-x:auto;line-height:normal;font-family:Menlo,'DejaVu Sans Mono',consolas,'Courier New',monospace\">Applying cut: 2mu2e\n",
       "</pre>\n"
      ],
      "text/plain": [
       "Applying cut: 2mu2e\n"
      ]
     },
     "metadata": {},
     "output_type": "display_data"
    },
    {
     "data": {
      "text/html": [
       "<pre style=\"white-space:pre;overflow-x:auto;line-height:normal;font-family:Menlo,'DejaVu Sans Mono',consolas,'Courier New',monospace\"></pre>\n"
      ],
      "text/plain": []
     },
     "metadata": {},
     "output_type": "display_data"
    },
    {
     "name": "stdout",
     "output_type": "stream",
     "text": [
      "Signal not in xs cfg, assuming 1fb\n"
     ]
    }
   ],
   "source": [
    "samples = [\n",
    "    '2Mu2E_500GeV_5p0GeV_8p0mm',\n",
    "]\n",
    "fileset = utilities.make_fileset(samples, \"llpNanoAOD_v2\", max_files=1, location_cfg=\"signal_2mu2e_v10.yaml\")\n",
    "\n",
    "runner = processor.Runner(\n",
    "    executor=processor.IterativeExecutor(),\n",
    "    schema=NanoAODSchema,\n",
    "    #schema=llpnanoaodschema.NanoAODSchema,\n",
    "    maxchunks=1,\n",
    "    skipbadfiles=True,\n",
    ")\n",
    "\n",
    "channels = [\n",
    "    \"2mu2e\",\n",
    "]\n",
    "p = sidm_processor.SidmProcessor(\n",
    "    channels,\n",
    "    [\"base\"],\n",
    "    verbose=True,\n",
    ")\n",
    "\n",
    "output = runner.run(fileset, treename='Events', processor_instance=p)\n",
    "out = output[\"out\"]"
   ]
  },
  {
   "cell_type": "code",
   "execution_count": 5,
   "id": "31b6a93d-4c1e-4e19-8049-03f972d1d280",
   "metadata": {
    "tags": []
   },
   "outputs": [
    {
     "name": "stdout",
     "output_type": "stream",
     "text": [
      "cut name         individual cut N    all cut N\n",
      "-------------  ------------------  -----------\n",
      "No selection                 59.8         59.8\n",
      "pass triggers                22.4         22.4\n",
      "PV filter                    59.8         22.4\n",
      ">=2 LJs                      31.2         14.2\n",
      "2mu2e                        31.0         14.1\n",
      "\n",
      "cut name         individual cut N    all cut N\n",
      "-------------  ------------------  -----------\n",
      "No selection               4364.0       4364.0\n",
      "pass triggers              1633.0       1633.0\n",
      "PV filter                  4364.0       1633.0\n",
      ">=2 LJs                    2274.0       1034.0\n",
      "2mu2e                      2258.0       1028.0\n",
      "\n",
      "cut name         individual %    marginal %    cumulative %\n",
      "-------------  --------------  ------------  --------------\n",
      "No selection            100.0         100.0           100.0\n",
      "pass triggers            37.4          37.4            37.4\n",
      "PV filter               100.0         100.0            37.4\n",
      ">=2 LJs                  52.1          63.3            23.7\n",
      "2mu2e                    51.7          99.4            23.6\n",
      "\n"
     ]
    }
   ],
   "source": [
    "out[samples[0]][\"cutflow\"][channels[0]].print_table()\n",
    "print()\n",
    "out[samples[0]][\"cutflow\"][channels[0]].print_table(unweighted=True)\n",
    "print()\n",
    "out[samples[0]][\"cutflow\"][channels[0]].print_table(fraction=True)\n",
    "print()"
   ]
  },
  {
   "cell_type": "code",
   "execution_count": 6,
   "id": "9f33a190-18e4-4cb0-82dd-86f3a8d5676a",
   "metadata": {
    "tags": []
   },
   "outputs": [
    {
     "data": {
      "text/plain": [
       "[StairsArtists(stairs=<matplotlib.patches.StepPatch object at 0x7fd31a257a00>, errorbar=<ErrorbarContainer object of 3 artists>, legend_artist=<ErrorbarContainer object of 3 artists>)]"
      ]
     },
     "execution_count": 6,
     "metadata": {},
     "output_type": "execute_result"
    },
    {
     "data": {
      "image/png": "[encoded data removed]",
      "text/plain": [
       "<Figure size 500x500 with 1 Axes>"
      ]
     },
     "metadata": {},
     "output_type": "display_data"
    }
   ],
   "source": [
    "utilities.plot(out[samples[0]][\"hists\"][\"pv_ndof\"][channels[0], :])"
   ]
  },
  {
   "cell_type": "code",
   "execution_count": 7,
   "id": "7c068c61-84a3-40a0-b158-79e2e3cafc89",
   "metadata": {
    "tags": []
   },
   "outputs": [
    {
     "data": {
      "text/plain": [
       "ColormeshArtists(pcolormesh=<matplotlib.collections.QuadMesh object at 0x7fd3264c9580>, cbar=<matplotlib.colorbar.Colorbar object at 0x7fd31a80c490>, text=[])"
      ]
     },
     "execution_count": 7,
     "metadata": {},
     "output_type": "execute_result"
    },
    {
     "data": {
      "image/png": "[encoded data removed]",
      "text/plain": [
       "<Figure size 500x500 with 2 Axes>"
      ]
     },
     "metadata": {},
     "output_type": "display_data"
    }
   ],
   "source": [
    "utilities.plot(out[samples[0]][\"hists\"][\"lj_eta_phi\"][channels[0], :, :])"
   ]
  },
  {
   "cell_type": "code",
   "execution_count": 8,
   "id": "27d144a7-8524-4484-bf69-712c0fbb41d8",
   "metadata": {
    "tags": []
   },
   "outputs": [
    {
     "data": {
      "text/plain": [
       "[StairsArtists(stairs=<matplotlib.patches.StepPatch object at 0x7fd319f6e910>, errorbar=<ErrorbarContainer object of 3 artists>, legend_artist=<ErrorbarContainer object of 3 artists>)]"
      ]
     },
     "execution_count": 8,
     "metadata": {},
     "output_type": "execute_result"
    },
    {
     "data": {
      "image/png": "[encoded data removed]",
      "text/plain": [
       "<Figure size 500x500 with 1 Axes>"
      ]
     },
     "metadata": {},
     "output_type": "display_data"
    }
   ],
   "source": [
    "utilities.plot(out[samples[0]][\"hists\"][\"lj_pt\"][channels[0], ::2j])"
   ]
  },
  {
   "cell_type": "code",
   "execution_count": 9,
   "id": "9c883bd7-7904-4b4c-9d3c-d2b80c595015",
   "metadata": {
    "tags": []
   },
   "outputs": [
    {
     "data": {
      "text/plain": [
       "<matplotlib.legend.Legend at 0x7fd319e877f0>"
      ]
     },
     "execution_count": 9,
     "metadata": {},
     "output_type": "execute_result"
    },
    {
     "data": {
      "image/png": "[encoded data removed]",
      "text/plain": [
       "<Figure size 500x500 with 1 Axes>"
      ]
     },
     "metadata": {},
     "output_type": "display_data"
    }
   ],
   "source": [
    "utilities.plot([\n",
    "    out[samples[0]][\"hists\"][\"mu_lj_pt\"][\"2mu2e\", ::2j],\n",
    "    out[samples[0]][\"hists\"][\"egm_lj_pt\"][\"2mu2e\", ::2j],\n",
    "])\n",
    "plt.legend([\"Muon-type LJ\", \"EGamma-type LJ\"])"
   ]
  },
  {
   "cell_type": "code",
   "execution_count": null,
   "id": "21131f58-d6d7-42f6-80d8-77dae8727e5a",
   "metadata": {},
   "outputs": [],
   "source": []
  }
 ],
 "metadata": {
  "kernelspec": {
   "display_name": "Python 3 (ipykernel)",
   "language": "python",
   "name": "python3"
  },
  "language_info": {
   "codemirror_mode": {
    "name": "ipython",
    "version": 3
   },
   "file_extension": ".py",
   "mimetype": "text/x-python",
   "name": "python",
   "nbconvert_exporter": "python",
   "pygments_lexer": "ipython3",
   "version": "3.10.14"
  }
 },
 "nbformat": 4,
 "nbformat_minor": 5
}
