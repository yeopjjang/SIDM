{
 "cells": [
  {
   "cell_type": "code",
   "execution_count": 1,
   "id": "52d29d6f-4d6a-4f32-88d0-d52dae4d1826",
   "metadata": {
    "tags": []
   },
   "outputs": [],
   "source": [
    "# python\n",
    "import sys\n",
    "import os\n",
    "import importlib\n",
    "# columnar analysis\n",
    "import awkward as ak\n",
    "from coffea.nanoevents import NanoEventsFactory, NanoAODSchema\n",
    "# local\n",
    "sys.path.insert(1, os.path.join(sys.path[0], '../..')) # fixme: there must be a better way to handle this...\n",
    "from sidm.tools import sidm_processor, utilities\n",
    "# always reload local modules to pick up changes during development\n",
    "importlib.reload(sidm_processor)\n",
    "importlib.reload(utilities)\n",
    "# plotting\n",
    "import matplotlib.pyplot as plt\n",
    "utilities.set_plot_style()\n",
    "%matplotlib inline"
   ]
  },
  {
   "cell_type": "code",
   "execution_count": 2,
   "id": "14a307d5-b3ff-4f5a-bc5f-d38dd7ece93e",
   "metadata": {
    "tags": []
   },
   "outputs": [],
   "source": [
    "fname = '~/local_data/tta_mAlp-0p35GeV_ctau-1e3mm_part-0.root'\n",
    "events = NanoEventsFactory.from_root(\n",
    "    fname,\n",
    "    schemaclass=NanoAODSchema,\n",
    "    metadata = {\n",
    "       \"dataset\": \"tt_alp\", \n",
    "    },\n",
    ").events()"
   ]
  },
  {
   "cell_type": "code",
   "execution_count": 3,
   "id": "741cf920-2b95-4067-8cfb-8c360337ceea",
   "metadata": {},
   "outputs": [
    {
     "name": "stdout",
     "output_type": "stream",
     "text": [
      "PatDSAMuonVertex\n",
      "Muon\n",
      "LHEScaleWeight\n",
      "HLTriggerFirstPath\n",
      "luminosityBlock\n",
      "run\n",
      "fixedGridRhoFastjetCentral\n",
      "Pileup\n",
      "OtherPV\n",
      "FatJet\n",
      "IsoTrack\n",
      "RawMET\n",
      "SoftActivityJet\n",
      "SoftActivityJetNjets5\n",
      "btagWeight\n",
      "Electron\n",
      "CorrT1METJet\n",
      "GenPart\n",
      "TrigObj\n",
      "RawPuppiMET\n",
      "HLT\n",
      "SoftActivityJetHT2\n",
      "LHEPart\n",
      "HLTriggerFinalPath\n",
      "SubJet\n",
      "LHEReweightingWeight\n",
      "LHEPdfWeight\n",
      "SoftActivityJetNjets10\n",
      "Tau\n",
      "GenVisTau\n",
      "L1simulation\n",
      "fixedGridRhoFastjetCentralNeutral\n",
      "DSAMuonVertex\n",
      "GenIsolatedPhoton\n",
      "PV\n",
      "DSAMuon\n",
      "Flag\n",
      "CaloMET\n",
      "MET\n",
      "DeepMETResponseTune\n",
      "GenMET\n",
      "GenVtx\n",
      "SoftActivityJetNjets2\n",
      "Photon\n",
      "fixedGridRhoFastjetAll\n",
      "event\n",
      "PatMuonVertex\n",
      "FsrPhoton\n",
      "SubGenJetAK8\n",
      "Generator\n",
      "LowPtElectron\n",
      "fixedGridRhoFastjetCentralCalo\n",
      "PuppiMET\n",
      "LHE\n",
      "SoftActivityJetHT\n",
      "boostedTau\n",
      "SoftActivityJetHT5\n",
      "L1\n",
      "PSWeight\n",
      "Jet\n",
      "L1PreFiringWeight\n",
      "SV\n",
      "GenDressedLepton\n",
      "DeepMETResolutionTune\n",
      "genTtbarId\n",
      "TkMET\n",
      "SoftActivityJetHT10\n",
      "L1Reco\n",
      "GenJetAK8\n",
      "BS\n",
      "HTXS\n",
      "genWeight\n",
      "ChsMET\n",
      "fixedGridRhoFastjetCentralChargedPileUp\n",
      "GenJet\n",
      "LHEWeight\n"
     ]
    }
   ],
   "source": [
    "utilities.print_list(ak.fields(events))"
   ]
  },
  {
   "cell_type": "code",
   "execution_count": 4,
   "id": "9a4af9fd-f872-4af7-becf-a711bab5c149",
   "metadata": {
    "tags": []
   },
   "outputs": [
    {
     "data": {
      "text/plain": [
       "<Array [0, 1, 2, 0, 0, 0, ... 1, 3, 1, 1, 1, 1] type='100 * int64'>"
      ]
     },
     "execution_count": 4,
     "metadata": {},
     "output_type": "execute_result"
    }
   ],
   "source": [
    "ak.num(events.Muon)"
   ]
  },
  {
   "cell_type": "code",
   "execution_count": 5,
   "id": "a0b1ecbe-4a86-4ee4-91fc-e774b55d0ca9",
   "metadata": {
    "tags": []
   },
   "outputs": [
    {
     "data": {
      "text/plain": [
       "<Array [18, 19, 34, 26, 37, ... 27, 27, 12, 38] type='100 * int32[parameters={\"_...'>"
      ]
     },
     "execution_count": 5,
     "metadata": {},
     "output_type": "execute_result"
    }
   ],
   "source": [
    "events.PV.npvs"
   ]
  },
  {
   "cell_type": "code",
   "execution_count": 6,
   "id": "48931980-a4a3-4a24-99ed-6896a6d0ad72",
   "metadata": {},
   "outputs": [
    {
     "name": "stdout",
     "output_type": "stream",
     "text": [
      "Not applying any cuts to the lepton jets for channel  llpnano\n",
      "Warning: Unable to apply event cuts to ntuple_ljs. Skipping.\n",
      "Warning: Unable to apply event cuts to ljs. Skipping.\n",
      "Warning: a histogram with the following axis names could not be filled and will be skipped: ['channel', 'muon_absD0']\n",
      "Warning: a histogram with the following axis names could not be filled and will be skipped: ['channel', 'muon_absD0_lowRange']\n",
      "Warning: a histogram with the following axis names could not be filled and will be skipped: ['channel', 'dsaMuon_absD0']\n",
      "Warning: a histogram with the following axis names could not be filled and will be skipped: ['channel', 'dsaMuon_absD0_lowRange']\n",
      "Warning: cannot fill counter Total LJs. Skipping.\n",
      "Warning: cannot fill counter Gen As to muons. Skipping.\n",
      "Warning: cannot fill counter Gen As to electrons. Skipping.\n",
      "Warning: cannot fill counter Matched gen As to muons. Skipping.\n",
      "Warning: cannot fill counter Matched gen As to electrons. Skipping.\n"
     ]
    }
   ],
   "source": [
    "p = sidm_processor.SidmProcessor(\n",
    "    [\"llpnano\"],\n",
    "    [\"muon_base\", \"dsaMuon_base\"],\n",
    "    llpnanoaod=True,\n",
    ")\n",
    "out = p.process(events)"
   ]
  },
  {
   "cell_type": "code",
   "execution_count": 7,
   "id": "7bbf9bfb-b0e9-4065-a120-35a42b127a4c",
   "metadata": {},
   "outputs": [
    {
     "data": {
      "text/plain": [
       "dict_keys(['muon_n', 'muon_pt', 'muon_eta_phi', 'muon_absD0', 'muon_absD0_lowRange', 'dsaMuon_n', 'dsaMuon_pt', 'dsaMuon_eta_phi', 'dsaMuon_absD0', 'dsaMuon_absD0_lowRange'])"
      ]
     },
     "execution_count": 7,
     "metadata": {},
     "output_type": "execute_result"
    }
   ],
   "source": [
    "out[\"tt_alp\"][\"hists\"].keys()"
   ]
  },
  {
   "cell_type": "code",
   "execution_count": 8,
   "id": "d04444b6-385b-4b91-87ae-6e6254b5426a",
   "metadata": {
    "tags": []
   },
   "outputs": [
    {
     "data": {
      "text/plain": [
       "<matplotlib.legend.Legend at 0x7fad240d5fa0>"
      ]
     },
     "execution_count": 8,
     "metadata": {},
     "output_type": "execute_result"
    },
    {
     "data": {
      "image/png": "[encoded data removed]",
      "text/plain": [
       "<Figure size 500x500 with 1 Axes>"
      ]
     },
     "metadata": {},
     "output_type": "display_data"
    }
   ],
   "source": [
    "utilities.plot(out[\"tt_alp\"][\"hists\"][\"muon_pt\"][\"llpnano\", ::2j])\n",
    "utilities.plot(out[\"tt_alp\"][\"hists\"][\"dsaMuon_pt\"][\"llpnano\", ::2j])\n",
    "plt.legend([\"PF\", \"DSA\"])"
   ]
  },
  {
   "cell_type": "code",
   "execution_count": 9,
   "id": "c1a63421-e6ea-42f3-8e45-918f5bd81ee5",
   "metadata": {
    "tags": []
   },
   "outputs": [
    {
     "data": {
      "text/plain": [
       "<matplotlib.legend.Legend at 0x7fad0a194430>"
      ]
     },
     "execution_count": 9,
     "metadata": {},
     "output_type": "execute_result"
    },
    {
     "data": {
      "image/png": "[encoded data removed]",
      "text/plain": [
       "<Figure size 500x500 with 1 Axes>"
      ]
     },
     "metadata": {},
     "output_type": "display_data"
    }
   ],
   "source": [
    "utilities.plot(out[\"tt_alp\"][\"hists\"][\"muon_n\"][\"llpnano\", :])\n",
    "utilities.plot(out[\"tt_alp\"][\"hists\"][\"dsaMuon_n\"][\"llpnano\", :])\n",
    "plt.legend([\"PF\", \"DSA\"])"
   ]
  },
  {
   "cell_type": "code",
   "execution_count": null,
   "id": "b38c6bd5-ad21-44e9-9d90-829c14234157",
   "metadata": {},
   "outputs": [],
   "source": []
  }
 ],
 "metadata": {
  "kernelspec": {
   "display_name": "Python 3 (ipykernel)",
   "language": "python",
   "name": "python3"
  },
  "language_info": {
   "codemirror_mode": {
    "name": "ipython",
    "version": 3
   },
   "file_extension": ".py",
   "mimetype": "text/x-python",
   "name": "python",
   "nbconvert_exporter": "python",
   "pygments_lexer": "ipython3",
   "version": "3.9.18"
  }
 },
 "nbformat": 4,
 "nbformat_minor": 5
}
