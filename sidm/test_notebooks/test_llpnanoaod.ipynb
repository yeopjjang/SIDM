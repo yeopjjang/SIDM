{
 "cells": [
  {
   "cell_type": "code",
   "execution_count": 2,
   "id": "52d29d6f-4d6a-4f32-88d0-d52dae4d1826",
   "metadata": {
    "tags": []
   },
   "outputs": [
    {
     "data": {
      "text/plain": [
       "<module 'sidm.tools.utilities' from '/home/cms-jovyan/SIDM/sidm/test_notebooks/../../sidm/tools/utilities.py'>"
      ]
     },
     "execution_count": 2,
     "metadata": {},
     "output_type": "execute_result"
    }
   ],
   "source": [
    "# python\n",
    "import sys\n",
    "import os\n",
    "import importlib\n",
    "# columnar analysis\n",
    "import awkward as ak\n",
    "from coffea.nanoevents import NanoEventsFactory, NanoAODSchema\n",
    "# local\n",
    "sys.path.insert(1, os.path.join(sys.path[0], '../..')) # fixme: there must be a better way to handle this...\n",
    "from sidm.tools import utilities\n",
    "# always reload local modules to pick up changes during development\n",
    "importlib.reload(utilities)"
   ]
  },
  {
   "cell_type": "code",
   "execution_count": 5,
   "id": "14a307d5-b3ff-4f5a-bc5f-d38dd7ece93e",
   "metadata": {
    "tags": []
   },
   "outputs": [
    {
     "name": "stdout",
     "output_type": "stream",
     "text": [
      "boostedTau\n",
      "LHEScaleWeight\n",
      "GenPart\n",
      "Photon\n",
      "LowPtElectron\n",
      "HLTriggerFinalPath\n",
      "btagWeight\n",
      "LHEPart\n",
      "run\n",
      "fixedGridRhoFastjetCentralNeutral\n",
      "CorrT1METJet\n",
      "DeepMETResponseTune\n",
      "L1\n",
      "SoftActivityJetHT\n",
      "MET\n",
      "TrigObj\n",
      "GenVisTau\n",
      "fixedGridRhoFastjetAll\n",
      "genTtbarId\n",
      "GenJetAK8\n",
      "RawPuppiMET\n",
      "SubJet\n",
      "GenDressedLepton\n",
      "GenJet\n",
      "SoftActivityJetHT2\n",
      "PuppiMET\n",
      "Flag\n",
      "L1Reco\n",
      "genWeight\n",
      "SoftActivityJetNjets5\n",
      "DeepMETResolutionTune\n",
      "CaloMET\n",
      "PatMuonVertex\n",
      "FatJet\n",
      "Muon\n",
      "BS\n",
      "LHEPdfWeight\n",
      "L1PreFiringWeight\n",
      "fixedGridRhoFastjetCentralCalo\n",
      "SoftActivityJetHT5\n",
      "SV\n",
      "DSAMuon\n",
      "SoftActivityJet\n",
      "LHE\n",
      "fixedGridRhoFastjetCentral\n",
      "PV\n",
      "SoftActivityJetNjets10\n",
      "PatDSAMuonVertex\n",
      "Electron\n",
      "SubGenJetAK8\n",
      "GenVtx\n",
      "HLT\n",
      "OtherPV\n",
      "L1simulation\n",
      "DSAMuonVertex\n",
      "Generator\n",
      "GenMET\n",
      "IsoTrack\n",
      "Tau\n",
      "ChsMET\n",
      "SoftActivityJetHT10\n",
      "GenIsolatedPhoton\n",
      "LHEReweightingWeight\n",
      "TkMET\n",
      "Pileup\n",
      "HTXS\n",
      "HLTriggerFirstPath\n",
      "event\n",
      "FsrPhoton\n",
      "SoftActivityJetNjets2\n",
      "Jet\n",
      "LHEWeight\n",
      "luminosityBlock\n",
      "RawMET\n",
      "PSWeight\n",
      "fixedGridRhoFastjetCentralChargedPileUp\n"
     ]
    }
   ],
   "source": [
    "fname = '~/local_data/tta_mAlp-0p35GeV_ctau-1e3mm_part-0.root'\n",
    "events = NanoEventsFactory.from_root(fname, schemaclass=NanoAODSchema).events()\n",
    "utilities.print_list(ak.fields(events))"
   ]
  },
  {
   "cell_type": "code",
   "execution_count": 9,
   "id": "9a4af9fd-f872-4af7-becf-a711bab5c149",
   "metadata": {
    "tags": []
   },
   "outputs": [
    {
     "data": {
      "text/plain": [
       "['idx',\n",
       " 'pt',\n",
       " 'ptErr',\n",
       " 'eta',\n",
       " 'etaErr',\n",
       " 'phi',\n",
       " 'phiErr',\n",
       " 'charge',\n",
       " 'dxy',\n",
       " 'dz',\n",
       " 'vx',\n",
       " 'vy',\n",
       " 'vz',\n",
       " 'chi2',\n",
       " 'ndof',\n",
       " 'trkNumPlanes',\n",
       " 'trkNumHits',\n",
       " 'trkNumDTHits',\n",
       " 'trkNumCSCHits',\n",
       " 'normChi2',\n",
       " 'outerEta',\n",
       " 'outerPhi',\n",
       " 'dxyPV',\n",
       " 'dxyPVErr',\n",
       " 'dzPV',\n",
       " 'dzPVErr',\n",
       " 'dxyPVTraj',\n",
       " 'dxyPVTrajErr',\n",
       " 'dxyPVAbs',\n",
       " 'dxyPVAbsErr',\n",
       " 'dxyPVSigned',\n",
       " 'dxyPVSignedErr',\n",
       " 'ip3DPVAbs',\n",
       " 'ip3DPVAbsErr',\n",
       " 'ip3DPVSigned',\n",
       " 'ip3DPVSignedErr',\n",
       " 'dxyBS',\n",
       " 'dxyBSErr',\n",
       " 'dzBS',\n",
       " 'dzBSErr',\n",
       " 'dxyBSTraj',\n",
       " 'dxyBSTrajErr',\n",
       " 'dxyBSAbs',\n",
       " 'dxyBSAbsErr',\n",
       " 'dxyBSSigned',\n",
       " 'dxyBSSignedErr',\n",
       " 'ip3DBSAbs',\n",
       " 'ip3DBSAbsErr',\n",
       " 'ip3DBSSigned',\n",
       " 'ip3DBSSignedErr',\n",
       " 'displacedID',\n",
       " 'muonMatch1',\n",
       " 'muonMatch1idx',\n",
       " 'muonMatch2',\n",
       " 'muonMatch2idx',\n",
       " 'muonMatch3',\n",
       " 'muonMatch3idx',\n",
       " 'muonMatch4',\n",
       " 'muonMatch4idx',\n",
       " 'muonMatch5',\n",
       " 'muonMatch5idx',\n",
       " 'nMatchesPerMuon']"
      ]
     },
     "execution_count": 9,
     "metadata": {},
     "output_type": "execute_result"
    }
   ],
   "source": [
    "ak.fields(events.DSAMuon)"
   ]
  },
  {
   "cell_type": "code",
   "execution_count": null,
   "id": "48931980-a4a3-4a24-99ed-6896a6d0ad72",
   "metadata": {},
   "outputs": [],
   "source": []
  }
 ],
 "metadata": {
  "kernelspec": {
   "display_name": "Python 3 (ipykernel)",
   "language": "python",
   "name": "python3"
  },
  "language_info": {
   "codemirror_mode": {
    "name": "ipython",
    "version": 3
   },
   "file_extension": ".py",
   "mimetype": "text/x-python",
   "name": "python",
   "nbconvert_exporter": "python",
   "pygments_lexer": "ipython3",
   "version": "3.9.18"
  }
 },
 "nbformat": 4,
 "nbformat_minor": 5
}
