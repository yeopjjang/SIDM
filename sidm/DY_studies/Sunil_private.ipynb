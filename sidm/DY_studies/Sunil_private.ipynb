{
 "cells": [
  {
   "cell_type": "code",
   "execution_count": 1,
   "id": "f2cf749d-b15a-4686-a27a-6084bf6f96e6",
   "metadata": {
    "tags": []
   },
   "outputs": [],
   "source": [
    "# python\n",
    "import sys\n",
    "import os\n",
    "import importlib\n",
    "# columnar analysis\n",
    "from coffea import processor\n",
    "import awkward as ak\n",
    "from dask.distributed import Client\n",
    "# local\n",
    "sys.path.insert(1, os.path.join(sys.path[0], '../..')) # fixme: there must be a better way to handle this...\n",
    "from sidm.tools import ffschema, sidm_processor, utilities\n",
    "# always reload local modules to pick up changes during development\n",
    "importlib.reload(ffschema)\n",
    "importlib.reload(sidm_processor)\n",
    "importlib.reload(utilities)\n",
    "# plotting\n",
    "\n",
    "import matplotlib.pyplot as plt\n",
    "utilities.set_plot_style()\n",
    "%matplotlib inline"
   ]
  },
  {
   "cell_type": "code",
   "execution_count": 2,
   "id": "0c2fab28-e566-4c86-8263-997f5d116837",
   "metadata": {
    "tags": []
   },
   "outputs": [
    {
     "data": {
      "application/vnd.jupyter.widget-view+json": {
       "model_id": "f7db8358f9fd4a41b9eb88bfab18d98b",
       "version_major": 2,
       "version_minor": 0
      },
      "text/plain": [
       "Output()"
      ]
     },
     "metadata": {},
     "output_type": "display_data"
    },
    {
     "data": {
      "text/html": [
       "<pre style=\"white-space:pre;overflow-x:auto;line-height:normal;font-family:Menlo,'DejaVu Sans Mono',consolas,'Courier New',monospace\"></pre>\n"
      ],
      "text/plain": []
     },
     "metadata": {},
     "output_type": "display_data"
    },
    {
     "data": {
      "text/html": [
       "<pre style=\"white-space:pre;overflow-x:auto;line-height:normal;font-family:Menlo,'DejaVu Sans Mono',consolas,'Courier New',monospace\">\n",
       "</pre>\n"
      ],
      "text/plain": [
       "\n"
      ]
     },
     "metadata": {},
     "output_type": "display_data"
    },
    {
     "data": {
      "application/vnd.jupyter.widget-view+json": {
       "model_id": "dbad390cfb8d4aab83b3bfab07a0ee03",
       "version_major": 2,
       "version_minor": 0
      },
      "text/plain": [
       "Output()"
      ]
     },
     "metadata": {},
     "output_type": "display_data"
    },
    {
     "data": {
      "text/html": [
       "<pre style=\"white-space:pre;overflow-x:auto;line-height:normal;font-family:Menlo,'DejaVu Sans Mono',consolas,'Courier New',monospace\">Warning: photons not found in this sample. Skipping.\n",
       "</pre>\n"
      ],
      "text/plain": [
       "Warning: photons not found in this sample. Skipping.\n"
      ]
     },
     "metadata": {},
     "output_type": "display_data"
    },
    {
     "data": {
      "text/html": [
       "<pre style=\"white-space:pre;overflow-x:auto;line-height:normal;font-family:Menlo,'DejaVu Sans Mono',consolas,'Courier New',monospace\">Warning: photons not found in sample. The following cuts will not be applied: ['pT &gt; 20 GeV', '|eta| &lt; 2.5', \n",
       "'looseID']\n",
       "</pre>\n"
      ],
      "text/plain": [
       "Warning: photons not found in sample. The following cuts will not be applied: ['pT > 20 GeV', '|eta| < 2.5', \n",
       "'looseID']\n"
      ]
     },
     "metadata": {},
     "output_type": "display_data"
    },
    {
     "data": {
      "text/html": [
       "<pre style=\"white-space:pre;overflow-x:auto;line-height:normal;font-family:Menlo,'DejaVu Sans Mono',consolas,'Courier New',monospace\">Warning: photons not found in sample. The following cuts will not be applied: ['pT &gt; 20 GeV', '|eta| &lt; 2.5', \n",
       "'looseID']\n",
       "</pre>\n"
      ],
      "text/plain": [
       "Warning: photons not found in sample. The following cuts will not be applied: ['pT > 20 GeV', '|eta| < 2.5', \n",
       "'looseID']\n"
      ]
     },
     "metadata": {},
     "output_type": "display_data"
    },
    {
     "data": {
      "text/html": [
       "<pre style=\"white-space:pre;overflow-x:auto;line-height:normal;font-family:Menlo,'DejaVu Sans Mono',consolas,'Courier New',monospace\">Warning: a histogram with the following axis names could not be filled and will be skipped: ['channel', 'photon_n']\n",
       "</pre>\n"
      ],
      "text/plain": [
       "Warning: a histogram with the following axis names could not be filled and will be skipped: ['channel', 'photon_n']\n"
      ]
     },
     "metadata": {},
     "output_type": "display_data"
    },
    {
     "data": {
      "text/html": [
       "<pre style=\"white-space:pre;overflow-x:auto;line-height:normal;font-family:Menlo,'DejaVu Sans Mono',consolas,'Courier New',monospace\">Warning: a histogram with the following axis names could not be filled and will be skipped: ['channel', \n",
       "'photon_pt']\n",
       "</pre>\n"
      ],
      "text/plain": [
       "Warning: a histogram with the following axis names could not be filled and will be skipped: ['channel', \n",
       "'photon_pt']\n"
      ]
     },
     "metadata": {},
     "output_type": "display_data"
    },
    {
     "data": {
      "text/html": [
       "<pre style=\"white-space:pre;overflow-x:auto;line-height:normal;font-family:Menlo,'DejaVu Sans Mono',consolas,'Courier New',monospace\">Warning: a histogram with the following axis names could not be filled and will be skipped: ['channel', \n",
       "'photon_eta', 'photon_phi']\n",
       "</pre>\n"
      ],
      "text/plain": [
       "Warning: a histogram with the following axis names could not be filled and will be skipped: ['channel', \n",
       "'photon_eta', 'photon_phi']\n"
      ]
     },
     "metadata": {},
     "output_type": "display_data"
    },
    {
     "data": {
      "text/html": [
       "<pre style=\"white-space:pre;overflow-x:auto;line-height:normal;font-family:Menlo,'DejaVu Sans Mono',consolas,'Courier New',monospace\">Warning: a histogram with the following axis names could not be filled and will be skipped: ['channel', \n",
       "'photon_lj_dR']\n",
       "</pre>\n"
      ],
      "text/plain": [
       "Warning: a histogram with the following axis names could not be filled and will be skipped: ['channel', \n",
       "'photon_lj_dR']\n"
      ]
     },
     "metadata": {},
     "output_type": "display_data"
    },
    {
     "data": {
      "text/html": [
       "<pre style=\"white-space:pre;overflow-x:auto;line-height:normal;font-family:Menlo,'DejaVu Sans Mono',consolas,'Courier New',monospace\">Warning: a histogram with the following axis names could not be filled and will be skipped: ['channel', \n",
       "'photon_lj_dR_lowRange']\n",
       "</pre>\n"
      ],
      "text/plain": [
       "Warning: a histogram with the following axis names could not be filled and will be skipped: ['channel', \n",
       "'photon_lj_dR_lowRange']\n"
      ]
     },
     "metadata": {},
     "output_type": "display_data"
    },
    {
     "data": {
      "text/html": [
       "<pre style=\"white-space:pre;overflow-x:auto;line-height:normal;font-family:Menlo,'DejaVu Sans Mono',consolas,'Courier New',monospace\">Warning: a histogram with the following axis names could not be filled and will be skipped: ['channel', \n",
       "'photon_lj_dR_reallyLowRange']\n",
       "</pre>\n"
      ],
      "text/plain": [
       "Warning: a histogram with the following axis names could not be filled and will be skipped: ['channel', \n",
       "'photon_lj_dR_reallyLowRange']\n"
      ]
     },
     "metadata": {},
     "output_type": "display_data"
    },
    {
     "data": {
      "text/html": [
       "<pre style=\"white-space:pre;overflow-x:auto;line-height:normal;font-family:Menlo,'DejaVu Sans Mono',consolas,'Courier New',monospace\">Warning: a histogram with the following axis names could not be filled and will be skipped: ['channel', \n",
       "'photon_genE_dR']\n",
       "</pre>\n"
      ],
      "text/plain": [
       "Warning: a histogram with the following axis names could not be filled and will be skipped: ['channel', \n",
       "'photon_genE_dR']\n"
      ]
     },
     "metadata": {},
     "output_type": "display_data"
    },
    {
     "data": {
      "text/html": [
       "<pre style=\"white-space:pre;overflow-x:auto;line-height:normal;font-family:Menlo,'DejaVu Sans Mono',consolas,'Courier New',monospace\">Warning: photons not found in sample. The following cuts will not be applied: ['pT &gt; 20 GeV', '|eta| &lt; 2.5', \n",
       "'looseID']\n",
       "</pre>\n"
      ],
      "text/plain": [
       "Warning: photons not found in sample. The following cuts will not be applied: ['pT > 20 GeV', '|eta| < 2.5', \n",
       "'looseID']\n"
      ]
     },
     "metadata": {},
     "output_type": "display_data"
    },
    {
     "data": {
      "text/html": [
       "<pre style=\"white-space:pre;overflow-x:auto;line-height:normal;font-family:Menlo,'DejaVu Sans Mono',consolas,'Courier New',monospace\">Warning: a histogram with the following axis names could not be filled and will be skipped: ['channel', 'photon_n']\n",
       "</pre>\n"
      ],
      "text/plain": [
       "Warning: a histogram with the following axis names could not be filled and will be skipped: ['channel', 'photon_n']\n"
      ]
     },
     "metadata": {},
     "output_type": "display_data"
    },
    {
     "data": {
      "text/html": [
       "<pre style=\"white-space:pre;overflow-x:auto;line-height:normal;font-family:Menlo,'DejaVu Sans Mono',consolas,'Courier New',monospace\">Warning: a histogram with the following axis names could not be filled and will be skipped: ['channel', \n",
       "'photon_pt']\n",
       "</pre>\n"
      ],
      "text/plain": [
       "Warning: a histogram with the following axis names could not be filled and will be skipped: ['channel', \n",
       "'photon_pt']\n"
      ]
     },
     "metadata": {},
     "output_type": "display_data"
    },
    {
     "data": {
      "text/html": [
       "<pre style=\"white-space:pre;overflow-x:auto;line-height:normal;font-family:Menlo,'DejaVu Sans Mono',consolas,'Courier New',monospace\">Warning: a histogram with the following axis names could not be filled and will be skipped: ['channel', \n",
       "'photon_eta', 'photon_phi']\n",
       "</pre>\n"
      ],
      "text/plain": [
       "Warning: a histogram with the following axis names could not be filled and will be skipped: ['channel', \n",
       "'photon_eta', 'photon_phi']\n"
      ]
     },
     "metadata": {},
     "output_type": "display_data"
    },
    {
     "data": {
      "text/html": [
       "<pre style=\"white-space:pre;overflow-x:auto;line-height:normal;font-family:Menlo,'DejaVu Sans Mono',consolas,'Courier New',monospace\">Warning: a histogram with the following axis names could not be filled and will be skipped: ['channel', \n",
       "'photon_lj_dR']\n",
       "</pre>\n"
      ],
      "text/plain": [
       "Warning: a histogram with the following axis names could not be filled and will be skipped: ['channel', \n",
       "'photon_lj_dR']\n"
      ]
     },
     "metadata": {},
     "output_type": "display_data"
    },
    {
     "data": {
      "text/html": [
       "<pre style=\"white-space:pre;overflow-x:auto;line-height:normal;font-family:Menlo,'DejaVu Sans Mono',consolas,'Courier New',monospace\">Warning: a histogram with the following axis names could not be filled and will be skipped: ['channel', \n",
       "'photon_lj_dR_lowRange']\n",
       "</pre>\n"
      ],
      "text/plain": [
       "Warning: a histogram with the following axis names could not be filled and will be skipped: ['channel', \n",
       "'photon_lj_dR_lowRange']\n"
      ]
     },
     "metadata": {},
     "output_type": "display_data"
    },
    {
     "data": {
      "text/html": [
       "<pre style=\"white-space:pre;overflow-x:auto;line-height:normal;font-family:Menlo,'DejaVu Sans Mono',consolas,'Courier New',monospace\">Warning: a histogram with the following axis names could not be filled and will be skipped: ['channel', \n",
       "'photon_lj_dR_reallyLowRange']\n",
       "</pre>\n"
      ],
      "text/plain": [
       "Warning: a histogram with the following axis names could not be filled and will be skipped: ['channel', \n",
       "'photon_lj_dR_reallyLowRange']\n"
      ]
     },
     "metadata": {},
     "output_type": "display_data"
    },
    {
     "data": {
      "text/html": [
       "<pre style=\"white-space:pre;overflow-x:auto;line-height:normal;font-family:Menlo,'DejaVu Sans Mono',consolas,'Courier New',monospace\">Warning: a histogram with the following axis names could not be filled and will be skipped: ['channel', \n",
       "'photon_genE_dR']\n",
       "</pre>\n"
      ],
      "text/plain": [
       "Warning: a histogram with the following axis names could not be filled and will be skipped: ['channel', \n",
       "'photon_genE_dR']\n"
      ]
     },
     "metadata": {},
     "output_type": "display_data"
    },
    {
     "data": {
      "text/html": [
       "<pre style=\"white-space:pre;overflow-x:auto;line-height:normal;font-family:Menlo,'DejaVu Sans Mono',consolas,'Courier New',monospace\">Warning: photons not found in this sample. Skipping.\n",
       "</pre>\n"
      ],
      "text/plain": [
       "Warning: photons not found in this sample. Skipping.\n"
      ]
     },
     "metadata": {},
     "output_type": "display_data"
    },
    {
     "data": {
      "text/html": [
       "<pre style=\"white-space:pre;overflow-x:auto;line-height:normal;font-family:Menlo,'DejaVu Sans Mono',consolas,'Courier New',monospace\">Warning: photons not found in sample. The following cuts will not be applied: ['pT &gt; 20 GeV', '|eta| &lt; 2.5', \n",
       "'looseID']\n",
       "</pre>\n"
      ],
      "text/plain": [
       "Warning: photons not found in sample. The following cuts will not be applied: ['pT > 20 GeV', '|eta| < 2.5', \n",
       "'looseID']\n"
      ]
     },
     "metadata": {},
     "output_type": "display_data"
    },
    {
     "data": {
      "text/html": [
       "<pre style=\"white-space:pre;overflow-x:auto;line-height:normal;font-family:Menlo,'DejaVu Sans Mono',consolas,'Courier New',monospace\">Warning: photons not found in sample. The following cuts will not be applied: ['pT &gt; 20 GeV', '|eta| &lt; 2.5', \n",
       "'looseID']\n",
       "</pre>\n"
      ],
      "text/plain": [
       "Warning: photons not found in sample. The following cuts will not be applied: ['pT > 20 GeV', '|eta| < 2.5', \n",
       "'looseID']\n"
      ]
     },
     "metadata": {},
     "output_type": "display_data"
    },
    {
     "data": {
      "text/html": [
       "<pre style=\"white-space:pre;overflow-x:auto;line-height:normal;font-family:Menlo,'DejaVu Sans Mono',consolas,'Courier New',monospace\">Warning: a histogram with the following axis names could not be filled and will be skipped: ['channel', 'photon_n']\n",
       "</pre>\n"
      ],
      "text/plain": [
       "Warning: a histogram with the following axis names could not be filled and will be skipped: ['channel', 'photon_n']\n"
      ]
     },
     "metadata": {},
     "output_type": "display_data"
    },
    {
     "data": {
      "text/html": [
       "<pre style=\"white-space:pre;overflow-x:auto;line-height:normal;font-family:Menlo,'DejaVu Sans Mono',consolas,'Courier New',monospace\">Warning: a histogram with the following axis names could not be filled and will be skipped: ['channel', \n",
       "'photon_pt']\n",
       "</pre>\n"
      ],
      "text/plain": [
       "Warning: a histogram with the following axis names could not be filled and will be skipped: ['channel', \n",
       "'photon_pt']\n"
      ]
     },
     "metadata": {},
     "output_type": "display_data"
    },
    {
     "data": {
      "text/html": [
       "<pre style=\"white-space:pre;overflow-x:auto;line-height:normal;font-family:Menlo,'DejaVu Sans Mono',consolas,'Courier New',monospace\">Warning: a histogram with the following axis names could not be filled and will be skipped: ['channel', \n",
       "'photon_eta', 'photon_phi']\n",
       "</pre>\n"
      ],
      "text/plain": [
       "Warning: a histogram with the following axis names could not be filled and will be skipped: ['channel', \n",
       "'photon_eta', 'photon_phi']\n"
      ]
     },
     "metadata": {},
     "output_type": "display_data"
    },
    {
     "data": {
      "text/html": [
       "<pre style=\"white-space:pre;overflow-x:auto;line-height:normal;font-family:Menlo,'DejaVu Sans Mono',consolas,'Courier New',monospace\">Warning: a histogram with the following axis names could not be filled and will be skipped: ['channel', \n",
       "'photon_lj_dR']\n",
       "</pre>\n"
      ],
      "text/plain": [
       "Warning: a histogram with the following axis names could not be filled and will be skipped: ['channel', \n",
       "'photon_lj_dR']\n"
      ]
     },
     "metadata": {},
     "output_type": "display_data"
    },
    {
     "data": {
      "text/html": [
       "<pre style=\"white-space:pre;overflow-x:auto;line-height:normal;font-family:Menlo,'DejaVu Sans Mono',consolas,'Courier New',monospace\">Warning: a histogram with the following axis names could not be filled and will be skipped: ['channel', \n",
       "'photon_lj_dR_lowRange']\n",
       "</pre>\n"
      ],
      "text/plain": [
       "Warning: a histogram with the following axis names could not be filled and will be skipped: ['channel', \n",
       "'photon_lj_dR_lowRange']\n"
      ]
     },
     "metadata": {},
     "output_type": "display_data"
    },
    {
     "data": {
      "text/html": [
       "<pre style=\"white-space:pre;overflow-x:auto;line-height:normal;font-family:Menlo,'DejaVu Sans Mono',consolas,'Courier New',monospace\">Warning: a histogram with the following axis names could not be filled and will be skipped: ['channel', \n",
       "'photon_lj_dR_reallyLowRange']\n",
       "</pre>\n"
      ],
      "text/plain": [
       "Warning: a histogram with the following axis names could not be filled and will be skipped: ['channel', \n",
       "'photon_lj_dR_reallyLowRange']\n"
      ]
     },
     "metadata": {},
     "output_type": "display_data"
    },
    {
     "data": {
      "text/html": [
       "<pre style=\"white-space:pre;overflow-x:auto;line-height:normal;font-family:Menlo,'DejaVu Sans Mono',consolas,'Courier New',monospace\">Warning: a histogram with the following axis names could not be filled and will be skipped: ['channel', \n",
       "'photon_genE_dR']\n",
       "</pre>\n"
      ],
      "text/plain": [
       "Warning: a histogram with the following axis names could not be filled and will be skipped: ['channel', \n",
       "'photon_genE_dR']\n"
      ]
     },
     "metadata": {},
     "output_type": "display_data"
    },
    {
     "data": {
      "text/html": [
       "<pre style=\"white-space:pre;overflow-x:auto;line-height:normal;font-family:Menlo,'DejaVu Sans Mono',consolas,'Courier New',monospace\">Warning: photons not found in sample. The following cuts will not be applied: ['pT &gt; 20 GeV', '|eta| &lt; 2.5', \n",
       "'looseID']\n",
       "</pre>\n"
      ],
      "text/plain": [
       "Warning: photons not found in sample. The following cuts will not be applied: ['pT > 20 GeV', '|eta| < 2.5', \n",
       "'looseID']\n"
      ]
     },
     "metadata": {},
     "output_type": "display_data"
    },
    {
     "data": {
      "text/html": [
       "<pre style=\"white-space:pre;overflow-x:auto;line-height:normal;font-family:Menlo,'DejaVu Sans Mono',consolas,'Courier New',monospace\">Warning: a histogram with the following axis names could not be filled and will be skipped: ['channel', 'photon_n']\n",
       "</pre>\n"
      ],
      "text/plain": [
       "Warning: a histogram with the following axis names could not be filled and will be skipped: ['channel', 'photon_n']\n"
      ]
     },
     "metadata": {},
     "output_type": "display_data"
    },
    {
     "data": {
      "text/html": [
       "<pre style=\"white-space:pre;overflow-x:auto;line-height:normal;font-family:Menlo,'DejaVu Sans Mono',consolas,'Courier New',monospace\">Warning: a histogram with the following axis names could not be filled and will be skipped: ['channel', \n",
       "'photon_pt']\n",
       "</pre>\n"
      ],
      "text/plain": [
       "Warning: a histogram with the following axis names could not be filled and will be skipped: ['channel', \n",
       "'photon_pt']\n"
      ]
     },
     "metadata": {},
     "output_type": "display_data"
    },
    {
     "data": {
      "text/html": [
       "<pre style=\"white-space:pre;overflow-x:auto;line-height:normal;font-family:Menlo,'DejaVu Sans Mono',consolas,'Courier New',monospace\">Warning: a histogram with the following axis names could not be filled and will be skipped: ['channel', \n",
       "'photon_eta', 'photon_phi']\n",
       "</pre>\n"
      ],
      "text/plain": [
       "Warning: a histogram with the following axis names could not be filled and will be skipped: ['channel', \n",
       "'photon_eta', 'photon_phi']\n"
      ]
     },
     "metadata": {},
     "output_type": "display_data"
    },
    {
     "data": {
      "text/html": [
       "<pre style=\"white-space:pre;overflow-x:auto;line-height:normal;font-family:Menlo,'DejaVu Sans Mono',consolas,'Courier New',monospace\">Warning: a histogram with the following axis names could not be filled and will be skipped: ['channel', \n",
       "'photon_lj_dR']\n",
       "</pre>\n"
      ],
      "text/plain": [
       "Warning: a histogram with the following axis names could not be filled and will be skipped: ['channel', \n",
       "'photon_lj_dR']\n"
      ]
     },
     "metadata": {},
     "output_type": "display_data"
    },
    {
     "data": {
      "text/html": [
       "<pre style=\"white-space:pre;overflow-x:auto;line-height:normal;font-family:Menlo,'DejaVu Sans Mono',consolas,'Courier New',monospace\">Warning: a histogram with the following axis names could not be filled and will be skipped: ['channel', \n",
       "'photon_lj_dR_lowRange']\n",
       "</pre>\n"
      ],
      "text/plain": [
       "Warning: a histogram with the following axis names could not be filled and will be skipped: ['channel', \n",
       "'photon_lj_dR_lowRange']\n"
      ]
     },
     "metadata": {},
     "output_type": "display_data"
    },
    {
     "data": {
      "text/html": [
       "<pre style=\"white-space:pre;overflow-x:auto;line-height:normal;font-family:Menlo,'DejaVu Sans Mono',consolas,'Courier New',monospace\">Warning: a histogram with the following axis names could not be filled and will be skipped: ['channel', \n",
       "'photon_lj_dR_reallyLowRange']\n",
       "</pre>\n"
      ],
      "text/plain": [
       "Warning: a histogram with the following axis names could not be filled and will be skipped: ['channel', \n",
       "'photon_lj_dR_reallyLowRange']\n"
      ]
     },
     "metadata": {},
     "output_type": "display_data"
    },
    {
     "data": {
      "text/html": [
       "<pre style=\"white-space:pre;overflow-x:auto;line-height:normal;font-family:Menlo,'DejaVu Sans Mono',consolas,'Courier New',monospace\">Warning: a histogram with the following axis names could not be filled and will be skipped: ['channel', \n",
       "'photon_genE_dR']\n",
       "</pre>\n"
      ],
      "text/plain": [
       "Warning: a histogram with the following axis names could not be filled and will be skipped: ['channel', \n",
       "'photon_genE_dR']\n"
      ]
     },
     "metadata": {},
     "output_type": "display_data"
    },
    {
     "data": {
      "text/html": [
       "<pre style=\"white-space:pre;overflow-x:auto;line-height:normal;font-family:Menlo,'DejaVu Sans Mono',consolas,'Courier New',monospace\">Warning: photons not found in this sample. Skipping.\n",
       "</pre>\n"
      ],
      "text/plain": [
       "Warning: photons not found in this sample. Skipping.\n"
      ]
     },
     "metadata": {},
     "output_type": "display_data"
    },
    {
     "data": {
      "text/html": [
       "<pre style=\"white-space:pre;overflow-x:auto;line-height:normal;font-family:Menlo,'DejaVu Sans Mono',consolas,'Courier New',monospace\">Warning: photons not found in sample. The following cuts will not be applied: ['pT &gt; 20 GeV', '|eta| &lt; 2.5', \n",
       "'looseID']\n",
       "</pre>\n"
      ],
      "text/plain": [
       "Warning: photons not found in sample. The following cuts will not be applied: ['pT > 20 GeV', '|eta| < 2.5', \n",
       "'looseID']\n"
      ]
     },
     "metadata": {},
     "output_type": "display_data"
    },
    {
     "data": {
      "text/html": [
       "<pre style=\"white-space:pre;overflow-x:auto;line-height:normal;font-family:Menlo,'DejaVu Sans Mono',consolas,'Courier New',monospace\">Warning: photons not found in sample. The following cuts will not be applied: ['pT &gt; 20 GeV', '|eta| &lt; 2.5', \n",
       "'looseID']\n",
       "</pre>\n"
      ],
      "text/plain": [
       "Warning: photons not found in sample. The following cuts will not be applied: ['pT > 20 GeV', '|eta| < 2.5', \n",
       "'looseID']\n"
      ]
     },
     "metadata": {},
     "output_type": "display_data"
    },
    {
     "data": {
      "text/html": [
       "<pre style=\"white-space:pre;overflow-x:auto;line-height:normal;font-family:Menlo,'DejaVu Sans Mono',consolas,'Courier New',monospace\">Warning: a histogram with the following axis names could not be filled and will be skipped: ['channel', 'photon_n']\n",
       "</pre>\n"
      ],
      "text/plain": [
       "Warning: a histogram with the following axis names could not be filled and will be skipped: ['channel', 'photon_n']\n"
      ]
     },
     "metadata": {},
     "output_type": "display_data"
    },
    {
     "data": {
      "text/html": [
       "<pre style=\"white-space:pre;overflow-x:auto;line-height:normal;font-family:Menlo,'DejaVu Sans Mono',consolas,'Courier New',monospace\">Warning: a histogram with the following axis names could not be filled and will be skipped: ['channel', \n",
       "'photon_pt']\n",
       "</pre>\n"
      ],
      "text/plain": [
       "Warning: a histogram with the following axis names could not be filled and will be skipped: ['channel', \n",
       "'photon_pt']\n"
      ]
     },
     "metadata": {},
     "output_type": "display_data"
    },
    {
     "data": {
      "text/html": [
       "<pre style=\"white-space:pre;overflow-x:auto;line-height:normal;font-family:Menlo,'DejaVu Sans Mono',consolas,'Courier New',monospace\">Warning: a histogram with the following axis names could not be filled and will be skipped: ['channel', \n",
       "'photon_eta', 'photon_phi']\n",
       "</pre>\n"
      ],
      "text/plain": [
       "Warning: a histogram with the following axis names could not be filled and will be skipped: ['channel', \n",
       "'photon_eta', 'photon_phi']\n"
      ]
     },
     "metadata": {},
     "output_type": "display_data"
    },
    {
     "data": {
      "text/html": [
       "<pre style=\"white-space:pre;overflow-x:auto;line-height:normal;font-family:Menlo,'DejaVu Sans Mono',consolas,'Courier New',monospace\">Warning: a histogram with the following axis names could not be filled and will be skipped: ['channel', \n",
       "'photon_lj_dR']\n",
       "</pre>\n"
      ],
      "text/plain": [
       "Warning: a histogram with the following axis names could not be filled and will be skipped: ['channel', \n",
       "'photon_lj_dR']\n"
      ]
     },
     "metadata": {},
     "output_type": "display_data"
    },
    {
     "data": {
      "text/html": [
       "<pre style=\"white-space:pre;overflow-x:auto;line-height:normal;font-family:Menlo,'DejaVu Sans Mono',consolas,'Courier New',monospace\">Warning: a histogram with the following axis names could not be filled and will be skipped: ['channel', \n",
       "'photon_lj_dR_lowRange']\n",
       "</pre>\n"
      ],
      "text/plain": [
       "Warning: a histogram with the following axis names could not be filled and will be skipped: ['channel', \n",
       "'photon_lj_dR_lowRange']\n"
      ]
     },
     "metadata": {},
     "output_type": "display_data"
    },
    {
     "data": {
      "text/html": [
       "<pre style=\"white-space:pre;overflow-x:auto;line-height:normal;font-family:Menlo,'DejaVu Sans Mono',consolas,'Courier New',monospace\">Warning: a histogram with the following axis names could not be filled and will be skipped: ['channel', \n",
       "'photon_lj_dR_reallyLowRange']\n",
       "</pre>\n"
      ],
      "text/plain": [
       "Warning: a histogram with the following axis names could not be filled and will be skipped: ['channel', \n",
       "'photon_lj_dR_reallyLowRange']\n"
      ]
     },
     "metadata": {},
     "output_type": "display_data"
    },
    {
     "data": {
      "text/html": [
       "<pre style=\"white-space:pre;overflow-x:auto;line-height:normal;font-family:Menlo,'DejaVu Sans Mono',consolas,'Courier New',monospace\">Warning: a histogram with the following axis names could not be filled and will be skipped: ['channel', \n",
       "'photon_genE_dR']\n",
       "</pre>\n"
      ],
      "text/plain": [
       "Warning: a histogram with the following axis names could not be filled and will be skipped: ['channel', \n",
       "'photon_genE_dR']\n"
      ]
     },
     "metadata": {},
     "output_type": "display_data"
    },
    {
     "data": {
      "text/html": [
       "<pre style=\"white-space:pre;overflow-x:auto;line-height:normal;font-family:Menlo,'DejaVu Sans Mono',consolas,'Courier New',monospace\">Warning: photons not found in sample. The following cuts will not be applied: ['pT &gt; 20 GeV', '|eta| &lt; 2.5', \n",
       "'looseID']\n",
       "</pre>\n"
      ],
      "text/plain": [
       "Warning: photons not found in sample. The following cuts will not be applied: ['pT > 20 GeV', '|eta| < 2.5', \n",
       "'looseID']\n"
      ]
     },
     "metadata": {},
     "output_type": "display_data"
    },
    {
     "data": {
      "text/html": [
       "<pre style=\"white-space:pre;overflow-x:auto;line-height:normal;font-family:Menlo,'DejaVu Sans Mono',consolas,'Courier New',monospace\">Warning: a histogram with the following axis names could not be filled and will be skipped: ['channel', 'photon_n']\n",
       "</pre>\n"
      ],
      "text/plain": [
       "Warning: a histogram with the following axis names could not be filled and will be skipped: ['channel', 'photon_n']\n"
      ]
     },
     "metadata": {},
     "output_type": "display_data"
    },
    {
     "data": {
      "text/html": [
       "<pre style=\"white-space:pre;overflow-x:auto;line-height:normal;font-family:Menlo,'DejaVu Sans Mono',consolas,'Courier New',monospace\">Warning: a histogram with the following axis names could not be filled and will be skipped: ['channel', \n",
       "'photon_pt']\n",
       "</pre>\n"
      ],
      "text/plain": [
       "Warning: a histogram with the following axis names could not be filled and will be skipped: ['channel', \n",
       "'photon_pt']\n"
      ]
     },
     "metadata": {},
     "output_type": "display_data"
    },
    {
     "data": {
      "text/html": [
       "<pre style=\"white-space:pre;overflow-x:auto;line-height:normal;font-family:Menlo,'DejaVu Sans Mono',consolas,'Courier New',monospace\">Warning: a histogram with the following axis names could not be filled and will be skipped: ['channel', \n",
       "'photon_eta', 'photon_phi']\n",
       "</pre>\n"
      ],
      "text/plain": [
       "Warning: a histogram with the following axis names could not be filled and will be skipped: ['channel', \n",
       "'photon_eta', 'photon_phi']\n"
      ]
     },
     "metadata": {},
     "output_type": "display_data"
    },
    {
     "data": {
      "text/html": [
       "<pre style=\"white-space:pre;overflow-x:auto;line-height:normal;font-family:Menlo,'DejaVu Sans Mono',consolas,'Courier New',monospace\">Warning: a histogram with the following axis names could not be filled and will be skipped: ['channel', \n",
       "'photon_lj_dR']\n",
       "</pre>\n"
      ],
      "text/plain": [
       "Warning: a histogram with the following axis names could not be filled and will be skipped: ['channel', \n",
       "'photon_lj_dR']\n"
      ]
     },
     "metadata": {},
     "output_type": "display_data"
    },
    {
     "data": {
      "text/html": [
       "<pre style=\"white-space:pre;overflow-x:auto;line-height:normal;font-family:Menlo,'DejaVu Sans Mono',consolas,'Courier New',monospace\">Warning: a histogram with the following axis names could not be filled and will be skipped: ['channel', \n",
       "'photon_lj_dR_lowRange']\n",
       "</pre>\n"
      ],
      "text/plain": [
       "Warning: a histogram with the following axis names could not be filled and will be skipped: ['channel', \n",
       "'photon_lj_dR_lowRange']\n"
      ]
     },
     "metadata": {},
     "output_type": "display_data"
    },
    {
     "data": {
      "text/html": [
       "<pre style=\"white-space:pre;overflow-x:auto;line-height:normal;font-family:Menlo,'DejaVu Sans Mono',consolas,'Courier New',monospace\">Warning: a histogram with the following axis names could not be filled and will be skipped: ['channel', \n",
       "'photon_lj_dR_reallyLowRange']\n",
       "</pre>\n"
      ],
      "text/plain": [
       "Warning: a histogram with the following axis names could not be filled and will be skipped: ['channel', \n",
       "'photon_lj_dR_reallyLowRange']\n"
      ]
     },
     "metadata": {},
     "output_type": "display_data"
    },
    {
     "data": {
      "text/html": [
       "<pre style=\"white-space:pre;overflow-x:auto;line-height:normal;font-family:Menlo,'DejaVu Sans Mono',consolas,'Courier New',monospace\">Warning: a histogram with the following axis names could not be filled and will be skipped: ['channel', \n",
       "'photon_genE_dR']\n",
       "</pre>\n"
      ],
      "text/plain": [
       "Warning: a histogram with the following axis names could not be filled and will be skipped: ['channel', \n",
       "'photon_genE_dR']\n"
      ]
     },
     "metadata": {},
     "output_type": "display_data"
    },
    {
     "data": {
      "text/html": [
       "<pre style=\"white-space:pre;overflow-x:auto;line-height:normal;font-family:Menlo,'DejaVu Sans Mono',consolas,'Courier New',monospace\">Warning: photons not found in this sample. Skipping.\n",
       "</pre>\n"
      ],
      "text/plain": [
       "Warning: photons not found in this sample. Skipping.\n"
      ]
     },
     "metadata": {},
     "output_type": "display_data"
    },
    {
     "data": {
      "text/html": [
       "<pre style=\"white-space:pre;overflow-x:auto;line-height:normal;font-family:Menlo,'DejaVu Sans Mono',consolas,'Courier New',monospace\">Warning: photons not found in sample. The following cuts will not be applied: ['pT &gt; 20 GeV', '|eta| &lt; 2.5', \n",
       "'looseID']\n",
       "</pre>\n"
      ],
      "text/plain": [
       "Warning: photons not found in sample. The following cuts will not be applied: ['pT > 20 GeV', '|eta| < 2.5', \n",
       "'looseID']\n"
      ]
     },
     "metadata": {},
     "output_type": "display_data"
    },
    {
     "data": {
      "text/html": [
       "<pre style=\"white-space:pre;overflow-x:auto;line-height:normal;font-family:Menlo,'DejaVu Sans Mono',consolas,'Courier New',monospace\">Warning: photons not found in sample. The following cuts will not be applied: ['pT &gt; 20 GeV', '|eta| &lt; 2.5', \n",
       "'looseID']\n",
       "</pre>\n"
      ],
      "text/plain": [
       "Warning: photons not found in sample. The following cuts will not be applied: ['pT > 20 GeV', '|eta| < 2.5', \n",
       "'looseID']\n"
      ]
     },
     "metadata": {},
     "output_type": "display_data"
    },
    {
     "data": {
      "text/html": [
       "<pre style=\"white-space:pre;overflow-x:auto;line-height:normal;font-family:Menlo,'DejaVu Sans Mono',consolas,'Courier New',monospace\">Warning: a histogram with the following axis names could not be filled and will be skipped: ['channel', 'photon_n']\n",
       "</pre>\n"
      ],
      "text/plain": [
       "Warning: a histogram with the following axis names could not be filled and will be skipped: ['channel', 'photon_n']\n"
      ]
     },
     "metadata": {},
     "output_type": "display_data"
    },
    {
     "data": {
      "text/html": [
       "<pre style=\"white-space:pre;overflow-x:auto;line-height:normal;font-family:Menlo,'DejaVu Sans Mono',consolas,'Courier New',monospace\">Warning: a histogram with the following axis names could not be filled and will be skipped: ['channel', \n",
       "'photon_pt']\n",
       "</pre>\n"
      ],
      "text/plain": [
       "Warning: a histogram with the following axis names could not be filled and will be skipped: ['channel', \n",
       "'photon_pt']\n"
      ]
     },
     "metadata": {},
     "output_type": "display_data"
    },
    {
     "data": {
      "text/html": [
       "<pre style=\"white-space:pre;overflow-x:auto;line-height:normal;font-family:Menlo,'DejaVu Sans Mono',consolas,'Courier New',monospace\">Warning: a histogram with the following axis names could not be filled and will be skipped: ['channel', \n",
       "'photon_eta', 'photon_phi']\n",
       "</pre>\n"
      ],
      "text/plain": [
       "Warning: a histogram with the following axis names could not be filled and will be skipped: ['channel', \n",
       "'photon_eta', 'photon_phi']\n"
      ]
     },
     "metadata": {},
     "output_type": "display_data"
    },
    {
     "data": {
      "text/html": [
       "<pre style=\"white-space:pre;overflow-x:auto;line-height:normal;font-family:Menlo,'DejaVu Sans Mono',consolas,'Courier New',monospace\">Warning: a histogram with the following axis names could not be filled and will be skipped: ['channel', \n",
       "'photon_lj_dR']\n",
       "</pre>\n"
      ],
      "text/plain": [
       "Warning: a histogram with the following axis names could not be filled and will be skipped: ['channel', \n",
       "'photon_lj_dR']\n"
      ]
     },
     "metadata": {},
     "output_type": "display_data"
    },
    {
     "data": {
      "text/html": [
       "<pre style=\"white-space:pre;overflow-x:auto;line-height:normal;font-family:Menlo,'DejaVu Sans Mono',consolas,'Courier New',monospace\">Warning: a histogram with the following axis names could not be filled and will be skipped: ['channel', \n",
       "'photon_lj_dR_lowRange']\n",
       "</pre>\n"
      ],
      "text/plain": [
       "Warning: a histogram with the following axis names could not be filled and will be skipped: ['channel', \n",
       "'photon_lj_dR_lowRange']\n"
      ]
     },
     "metadata": {},
     "output_type": "display_data"
    },
    {
     "data": {
      "text/html": [
       "<pre style=\"white-space:pre;overflow-x:auto;line-height:normal;font-family:Menlo,'DejaVu Sans Mono',consolas,'Courier New',monospace\">Warning: a histogram with the following axis names could not be filled and will be skipped: ['channel', \n",
       "'photon_lj_dR_reallyLowRange']\n",
       "</pre>\n"
      ],
      "text/plain": [
       "Warning: a histogram with the following axis names could not be filled and will be skipped: ['channel', \n",
       "'photon_lj_dR_reallyLowRange']\n"
      ]
     },
     "metadata": {},
     "output_type": "display_data"
    },
    {
     "data": {
      "text/html": [
       "<pre style=\"white-space:pre;overflow-x:auto;line-height:normal;font-family:Menlo,'DejaVu Sans Mono',consolas,'Courier New',monospace\">Warning: a histogram with the following axis names could not be filled and will be skipped: ['channel', \n",
       "'photon_genE_dR']\n",
       "</pre>\n"
      ],
      "text/plain": [
       "Warning: a histogram with the following axis names could not be filled and will be skipped: ['channel', \n",
       "'photon_genE_dR']\n"
      ]
     },
     "metadata": {},
     "output_type": "display_data"
    },
    {
     "data": {
      "text/html": [
       "<pre style=\"white-space:pre;overflow-x:auto;line-height:normal;font-family:Menlo,'DejaVu Sans Mono',consolas,'Courier New',monospace\">Warning: photons not found in sample. The following cuts will not be applied: ['pT &gt; 20 GeV', '|eta| &lt; 2.5', \n",
       "'looseID']\n",
       "</pre>\n"
      ],
      "text/plain": [
       "Warning: photons not found in sample. The following cuts will not be applied: ['pT > 20 GeV', '|eta| < 2.5', \n",
       "'looseID']\n"
      ]
     },
     "metadata": {},
     "output_type": "display_data"
    },
    {
     "data": {
      "text/html": [
       "<pre style=\"white-space:pre;overflow-x:auto;line-height:normal;font-family:Menlo,'DejaVu Sans Mono',consolas,'Courier New',monospace\">Warning: a histogram with the following axis names could not be filled and will be skipped: ['channel', 'photon_n']\n",
       "</pre>\n"
      ],
      "text/plain": [
       "Warning: a histogram with the following axis names could not be filled and will be skipped: ['channel', 'photon_n']\n"
      ]
     },
     "metadata": {},
     "output_type": "display_data"
    },
    {
     "data": {
      "text/html": [
       "<pre style=\"white-space:pre;overflow-x:auto;line-height:normal;font-family:Menlo,'DejaVu Sans Mono',consolas,'Courier New',monospace\">Warning: a histogram with the following axis names could not be filled and will be skipped: ['channel', \n",
       "'photon_pt']\n",
       "</pre>\n"
      ],
      "text/plain": [
       "Warning: a histogram with the following axis names could not be filled and will be skipped: ['channel', \n",
       "'photon_pt']\n"
      ]
     },
     "metadata": {},
     "output_type": "display_data"
    },
    {
     "data": {
      "text/html": [
       "<pre style=\"white-space:pre;overflow-x:auto;line-height:normal;font-family:Menlo,'DejaVu Sans Mono',consolas,'Courier New',monospace\">Warning: a histogram with the following axis names could not be filled and will be skipped: ['channel', \n",
       "'photon_eta', 'photon_phi']\n",
       "</pre>\n"
      ],
      "text/plain": [
       "Warning: a histogram with the following axis names could not be filled and will be skipped: ['channel', \n",
       "'photon_eta', 'photon_phi']\n"
      ]
     },
     "metadata": {},
     "output_type": "display_data"
    },
    {
     "data": {
      "text/html": [
       "<pre style=\"white-space:pre;overflow-x:auto;line-height:normal;font-family:Menlo,'DejaVu Sans Mono',consolas,'Courier New',monospace\">Warning: a histogram with the following axis names could not be filled and will be skipped: ['channel', \n",
       "'photon_lj_dR']\n",
       "</pre>\n"
      ],
      "text/plain": [
       "Warning: a histogram with the following axis names could not be filled and will be skipped: ['channel', \n",
       "'photon_lj_dR']\n"
      ]
     },
     "metadata": {},
     "output_type": "display_data"
    },
    {
     "data": {
      "text/html": [
       "<pre style=\"white-space:pre;overflow-x:auto;line-height:normal;font-family:Menlo,'DejaVu Sans Mono',consolas,'Courier New',monospace\">Warning: a histogram with the following axis names could not be filled and will be skipped: ['channel', \n",
       "'photon_lj_dR_lowRange']\n",
       "</pre>\n"
      ],
      "text/plain": [
       "Warning: a histogram with the following axis names could not be filled and will be skipped: ['channel', \n",
       "'photon_lj_dR_lowRange']\n"
      ]
     },
     "metadata": {},
     "output_type": "display_data"
    },
    {
     "data": {
      "text/html": [
       "<pre style=\"white-space:pre;overflow-x:auto;line-height:normal;font-family:Menlo,'DejaVu Sans Mono',consolas,'Courier New',monospace\">Warning: a histogram with the following axis names could not be filled and will be skipped: ['channel', \n",
       "'photon_lj_dR_reallyLowRange']\n",
       "</pre>\n"
      ],
      "text/plain": [
       "Warning: a histogram with the following axis names could not be filled and will be skipped: ['channel', \n",
       "'photon_lj_dR_reallyLowRange']\n"
      ]
     },
     "metadata": {},
     "output_type": "display_data"
    },
    {
     "data": {
      "text/html": [
       "<pre style=\"white-space:pre;overflow-x:auto;line-height:normal;font-family:Menlo,'DejaVu Sans Mono',consolas,'Courier New',monospace\">Warning: a histogram with the following axis names could not be filled and will be skipped: ['channel', \n",
       "'photon_genE_dR']\n",
       "</pre>\n"
      ],
      "text/plain": [
       "Warning: a histogram with the following axis names could not be filled and will be skipped: ['channel', \n",
       "'photon_genE_dR']\n"
      ]
     },
     "metadata": {},
     "output_type": "display_data"
    },
    {
     "data": {
      "text/html": [
       "<pre style=\"white-space:pre;overflow-x:auto;line-height:normal;font-family:Menlo,'DejaVu Sans Mono',consolas,'Courier New',monospace\">Warning: photons not found in this sample. Skipping.\n",
       "</pre>\n"
      ],
      "text/plain": [
       "Warning: photons not found in this sample. Skipping.\n"
      ]
     },
     "metadata": {},
     "output_type": "display_data"
    },
    {
     "data": {
      "text/html": [
       "<pre style=\"white-space:pre;overflow-x:auto;line-height:normal;font-family:Menlo,'DejaVu Sans Mono',consolas,'Courier New',monospace\">Warning: photons not found in sample. The following cuts will not be applied: ['pT &gt; 20 GeV', '|eta| &lt; 2.5', \n",
       "'looseID']\n",
       "</pre>\n"
      ],
      "text/plain": [
       "Warning: photons not found in sample. The following cuts will not be applied: ['pT > 20 GeV', '|eta| < 2.5', \n",
       "'looseID']\n"
      ]
     },
     "metadata": {},
     "output_type": "display_data"
    },
    {
     "data": {
      "text/html": [
       "<pre style=\"white-space:pre;overflow-x:auto;line-height:normal;font-family:Menlo,'DejaVu Sans Mono',consolas,'Courier New',monospace\">Warning: photons not found in sample. The following cuts will not be applied: ['pT &gt; 20 GeV', '|eta| &lt; 2.5', \n",
       "'looseID']\n",
       "</pre>\n"
      ],
      "text/plain": [
       "Warning: photons not found in sample. The following cuts will not be applied: ['pT > 20 GeV', '|eta| < 2.5', \n",
       "'looseID']\n"
      ]
     },
     "metadata": {},
     "output_type": "display_data"
    },
    {
     "data": {
      "text/html": [
       "<pre style=\"white-space:pre;overflow-x:auto;line-height:normal;font-family:Menlo,'DejaVu Sans Mono',consolas,'Courier New',monospace\">Warning: a histogram with the following axis names could not be filled and will be skipped: ['channel', 'photon_n']\n",
       "</pre>\n"
      ],
      "text/plain": [
       "Warning: a histogram with the following axis names could not be filled and will be skipped: ['channel', 'photon_n']\n"
      ]
     },
     "metadata": {},
     "output_type": "display_data"
    },
    {
     "data": {
      "text/html": [
       "<pre style=\"white-space:pre;overflow-x:auto;line-height:normal;font-family:Menlo,'DejaVu Sans Mono',consolas,'Courier New',monospace\">Warning: a histogram with the following axis names could not be filled and will be skipped: ['channel', \n",
       "'photon_pt']\n",
       "</pre>\n"
      ],
      "text/plain": [
       "Warning: a histogram with the following axis names could not be filled and will be skipped: ['channel', \n",
       "'photon_pt']\n"
      ]
     },
     "metadata": {},
     "output_type": "display_data"
    },
    {
     "data": {
      "text/html": [
       "<pre style=\"white-space:pre;overflow-x:auto;line-height:normal;font-family:Menlo,'DejaVu Sans Mono',consolas,'Courier New',monospace\">Warning: a histogram with the following axis names could not be filled and will be skipped: ['channel', \n",
       "'photon_eta', 'photon_phi']\n",
       "</pre>\n"
      ],
      "text/plain": [
       "Warning: a histogram with the following axis names could not be filled and will be skipped: ['channel', \n",
       "'photon_eta', 'photon_phi']\n"
      ]
     },
     "metadata": {},
     "output_type": "display_data"
    },
    {
     "data": {
      "text/html": [
       "<pre style=\"white-space:pre;overflow-x:auto;line-height:normal;font-family:Menlo,'DejaVu Sans Mono',consolas,'Courier New',monospace\">Warning: a histogram with the following axis names could not be filled and will be skipped: ['channel', \n",
       "'photon_lj_dR']\n",
       "</pre>\n"
      ],
      "text/plain": [
       "Warning: a histogram with the following axis names could not be filled and will be skipped: ['channel', \n",
       "'photon_lj_dR']\n"
      ]
     },
     "metadata": {},
     "output_type": "display_data"
    },
    {
     "data": {
      "text/html": [
       "<pre style=\"white-space:pre;overflow-x:auto;line-height:normal;font-family:Menlo,'DejaVu Sans Mono',consolas,'Courier New',monospace\">Warning: a histogram with the following axis names could not be filled and will be skipped: ['channel', \n",
       "'photon_lj_dR_lowRange']\n",
       "</pre>\n"
      ],
      "text/plain": [
       "Warning: a histogram with the following axis names could not be filled and will be skipped: ['channel', \n",
       "'photon_lj_dR_lowRange']\n"
      ]
     },
     "metadata": {},
     "output_type": "display_data"
    },
    {
     "data": {
      "text/html": [
       "<pre style=\"white-space:pre;overflow-x:auto;line-height:normal;font-family:Menlo,'DejaVu Sans Mono',consolas,'Courier New',monospace\">Warning: a histogram with the following axis names could not be filled and will be skipped: ['channel', \n",
       "'photon_lj_dR_reallyLowRange']\n",
       "</pre>\n"
      ],
      "text/plain": [
       "Warning: a histogram with the following axis names could not be filled and will be skipped: ['channel', \n",
       "'photon_lj_dR_reallyLowRange']\n"
      ]
     },
     "metadata": {},
     "output_type": "display_data"
    },
    {
     "data": {
      "text/html": [
       "<pre style=\"white-space:pre;overflow-x:auto;line-height:normal;font-family:Menlo,'DejaVu Sans Mono',consolas,'Courier New',monospace\">Warning: a histogram with the following axis names could not be filled and will be skipped: ['channel', \n",
       "'photon_genE_dR']\n",
       "</pre>\n"
      ],
      "text/plain": [
       "Warning: a histogram with the following axis names could not be filled and will be skipped: ['channel', \n",
       "'photon_genE_dR']\n"
      ]
     },
     "metadata": {},
     "output_type": "display_data"
    },
    {
     "data": {
      "text/html": [
       "<pre style=\"white-space:pre;overflow-x:auto;line-height:normal;font-family:Menlo,'DejaVu Sans Mono',consolas,'Courier New',monospace\">Warning: photons not found in sample. The following cuts will not be applied: ['pT &gt; 20 GeV', '|eta| &lt; 2.5', \n",
       "'looseID']\n",
       "</pre>\n"
      ],
      "text/plain": [
       "Warning: photons not found in sample. The following cuts will not be applied: ['pT > 20 GeV', '|eta| < 2.5', \n",
       "'looseID']\n"
      ]
     },
     "metadata": {},
     "output_type": "display_data"
    },
    {
     "data": {
      "text/html": [
       "<pre style=\"white-space:pre;overflow-x:auto;line-height:normal;font-family:Menlo,'DejaVu Sans Mono',consolas,'Courier New',monospace\">Warning: a histogram with the following axis names could not be filled and will be skipped: ['channel', 'photon_n']\n",
       "</pre>\n"
      ],
      "text/plain": [
       "Warning: a histogram with the following axis names could not be filled and will be skipped: ['channel', 'photon_n']\n"
      ]
     },
     "metadata": {},
     "output_type": "display_data"
    },
    {
     "data": {
      "text/html": [
       "<pre style=\"white-space:pre;overflow-x:auto;line-height:normal;font-family:Menlo,'DejaVu Sans Mono',consolas,'Courier New',monospace\">Warning: a histogram with the following axis names could not be filled and will be skipped: ['channel', \n",
       "'photon_pt']\n",
       "</pre>\n"
      ],
      "text/plain": [
       "Warning: a histogram with the following axis names could not be filled and will be skipped: ['channel', \n",
       "'photon_pt']\n"
      ]
     },
     "metadata": {},
     "output_type": "display_data"
    },
    {
     "data": {
      "text/html": [
       "<pre style=\"white-space:pre;overflow-x:auto;line-height:normal;font-family:Menlo,'DejaVu Sans Mono',consolas,'Courier New',monospace\">Warning: a histogram with the following axis names could not be filled and will be skipped: ['channel', \n",
       "'photon_eta', 'photon_phi']\n",
       "</pre>\n"
      ],
      "text/plain": [
       "Warning: a histogram with the following axis names could not be filled and will be skipped: ['channel', \n",
       "'photon_eta', 'photon_phi']\n"
      ]
     },
     "metadata": {},
     "output_type": "display_data"
    },
    {
     "data": {
      "text/html": [
       "<pre style=\"white-space:pre;overflow-x:auto;line-height:normal;font-family:Menlo,'DejaVu Sans Mono',consolas,'Courier New',monospace\">Warning: a histogram with the following axis names could not be filled and will be skipped: ['channel', \n",
       "'photon_lj_dR']\n",
       "</pre>\n"
      ],
      "text/plain": [
       "Warning: a histogram with the following axis names could not be filled and will be skipped: ['channel', \n",
       "'photon_lj_dR']\n"
      ]
     },
     "metadata": {},
     "output_type": "display_data"
    },
    {
     "data": {
      "text/html": [
       "<pre style=\"white-space:pre;overflow-x:auto;line-height:normal;font-family:Menlo,'DejaVu Sans Mono',consolas,'Courier New',monospace\">Warning: a histogram with the following axis names could not be filled and will be skipped: ['channel', \n",
       "'photon_lj_dR_lowRange']\n",
       "</pre>\n"
      ],
      "text/plain": [
       "Warning: a histogram with the following axis names could not be filled and will be skipped: ['channel', \n",
       "'photon_lj_dR_lowRange']\n"
      ]
     },
     "metadata": {},
     "output_type": "display_data"
    },
    {
     "data": {
      "text/html": [
       "<pre style=\"white-space:pre;overflow-x:auto;line-height:normal;font-family:Menlo,'DejaVu Sans Mono',consolas,'Courier New',monospace\">Warning: a histogram with the following axis names could not be filled and will be skipped: ['channel', \n",
       "'photon_lj_dR_reallyLowRange']\n",
       "</pre>\n"
      ],
      "text/plain": [
       "Warning: a histogram with the following axis names could not be filled and will be skipped: ['channel', \n",
       "'photon_lj_dR_reallyLowRange']\n"
      ]
     },
     "metadata": {},
     "output_type": "display_data"
    },
    {
     "data": {
      "text/html": [
       "<pre style=\"white-space:pre;overflow-x:auto;line-height:normal;font-family:Menlo,'DejaVu Sans Mono',consolas,'Courier New',monospace\">Warning: a histogram with the following axis names could not be filled and will be skipped: ['channel', \n",
       "'photon_genE_dR']\n",
       "</pre>\n"
      ],
      "text/plain": [
       "Warning: a histogram with the following axis names could not be filled and will be skipped: ['channel', \n",
       "'photon_genE_dR']\n"
      ]
     },
     "metadata": {},
     "output_type": "display_data"
    },
    {
     "data": {
      "text/html": [
       "<pre style=\"white-space:pre;overflow-x:auto;line-height:normal;font-family:Menlo,'DejaVu Sans Mono',consolas,'Courier New',monospace\"></pre>\n"
      ],
      "text/plain": []
     },
     "metadata": {},
     "output_type": "display_data"
    },
    {
     "data": {
      "text/html": [
       "<pre style=\"white-space:pre;overflow-x:auto;line-height:normal;font-family:Menlo,'DejaVu Sans Mono',consolas,'Courier New',monospace\">\n",
       "</pre>\n"
      ],
      "text/plain": [
       "\n"
      ]
     },
     "metadata": {},
     "output_type": "display_data"
    }
   ],
   "source": [
    "samples = [\n",
    "    \"4Mu_500GeV_5p_0p08mm\",\n",
    "    \"4Mu_500GeV_5p_0p8mm\",\n",
    "    \"4Mu_500GeV_5p_8mm\",\n",
    "    \"4Mu_500GeV_5p_40mm\",\n",
    "    \"4Mu_500GeV_5p_80mm\"\n",
    "    \n",
    "]\n",
    "fileset = utilities.make_fileset(samples, \"Test_official\")\n",
    "\n",
    "runner = processor.Runner(\n",
    "    executor=processor.IterativeExecutor(),\n",
    "#    executor=processor.FuturesExecutor(),\n",
    "    schema=ffschema.FFSchema,\n",
    "    #maxchunks=1,\n",
    ")\n",
    "\n",
    "channels = [\"2mu2e\", \"2mu2e_matchedLj\"]\n",
    "p = sidm_processor.SidmProcessor(\n",
    "    channels,\n",
    "    [\"base_plus_gen\"]\n",
    ")\n",
    "\n",
    "output = runner.run(fileset, treename=\"ffNtuplizer/ffNtuple\", processor_instance=p)\n",
    "out = output[\"out\"]"
   ]
  },
  {
   "cell_type": "code",
   "execution_count": 3,
   "id": "7240ce39-689f-41aa-b19c-bdd8e4ceaf04",
   "metadata": {
    "tags": []
   },
   "outputs": [
    {
     "data": {
      "text/plain": [
       "'\\nplt.subplot(1, nplots, 3)\\nfor sample in samples:\\n    utilities.plot(out[sample][\"hists\"][\"genAs_toE_pt\"][channels[0], :600j], density=False)\\n    plt.legend(sample_name, title=\"DM bound state mass\", alignment=\"right\")\\n    plt.xlabel(\"Gen Dark Photon $p_{T}$ (to Electron)\")\\n    plt.ylabel(\"Number of Events\")\\n    '"
      ]
     },
     "execution_count": 3,
     "metadata": {},
     "output_type": "execute_result"
    },
    {
     "data": {
      "image/png": "[encoded data removed]",
      "text/plain": [
       "<Figure size 1200x500 with 2 Axes>"
      ]
     },
     "metadata": {},
     "output_type": "display_data"
    }
   ],
   "source": [
    "sample_name = [s.split(\"_\")[1]+\"_\"+s.split(\"_\")[2]+\"_\"+s.split(\"_\")[3] for s in samples]\n",
    "masses = [s.split(\"_\")[1] for s in samples]\n",
    "nplots = 2\n",
    "plt.subplots(1, nplots, figsize=(nplots*12, 10))\n",
    "\n",
    "plt.subplot(1, nplots, 1)\n",
    "for sample in samples:\n",
    "    utilities.plot(out[sample][\"hists\"][\"genA_pt\"][channels[0], :600j], density=False)\n",
    "    plt.legend(sample_name, title=\"DM bound state mass\", alignment=\"right\")\n",
    "    plt.xlabel(\"Gen All Dark Photon $p_{T}$\")\n",
    "    plt.ylabel(\"Number of Events\")\n",
    "    \n",
    "plt.subplot(1, nplots, 2)\n",
    "for sample in samples:\n",
    "    utilities.plot(out[sample][\"hists\"][\"genAs_toMu_pt\"][channels[0], :600j], density=False)\n",
    "    plt.legend(sample_name, title=\"DM bound state mass\", alignment=\"right\")\n",
    "    plt.xlabel(\"Gen Dark Photon $p_{T}$ (to Muon)\")\n",
    "    plt.ylabel(\"Number of Events\")\n",
    "'''\n",
    "plt.subplot(1, nplots, 3)\n",
    "for sample in samples:\n",
    "    utilities.plot(out[sample][\"hists\"][\"genAs_toE_pt\"][channels[0], :600j], density=False)\n",
    "    plt.legend(sample_name, title=\"DM bound state mass\", alignment=\"right\")\n",
    "    plt.xlabel(\"Gen Dark Photon $p_{T}$ (to Electron)\")\n",
    "    plt.ylabel(\"Number of Events\")\n",
    "    '''"
   ]
  },
  {
   "cell_type": "code",
   "execution_count": 3,
   "id": "2d0cfe9e-1549-4890-9027-3bbf81f7836b",
   "metadata": {
    "tags": []
   },
   "outputs": [
    {
     "data": {
      "image/png": "[encoded data removed]",
      "text/plain": [
       "<Figure size 1200x500 with 2 Axes>"
      ]
     },
     "metadata": {},
     "output_type": "display_data"
    }
   ],
   "source": [
    "sample_name = [s.split(\"_\")[1]+\"_\"+s.split(\"_\")[2]+\"_\"+s.split(\"_\")[3] for s in samples]\n",
    "masses = [s.split(\"_\")[1] for s in samples]\n",
    "nplots = 2\n",
    "plt.subplots(1, nplots, figsize=(nplots*12, 10))\n",
    "\n",
    "plt.subplot(1, nplots, 1)\n",
    "for sample in samples:\n",
    "    utilities.plot(out[sample][\"hists\"][\"genAs_toMu_matched_muLj_pt\"][channels[0], :600j], density=False)\n",
    "    plt.legend(sample_name, title=\"DM bound state mass\", alignment=\"right\")\n",
    "    plt.xlabel(\"Gen Matched Dark Photon $p_{T}$ (to Muon)\")\n",
    "    plt.ylabel(\"Number of Events\")\n",
    "    \n",
    "plt.subplot(1, nplots, 2)\n",
    "for sample in samples:\n",
    "    utilities.plot(out[sample][\"hists\"][\"genAs_toE_matched_egmLj_pt\"][channels[0], :600j], density=False)\n",
    "    plt.legend(sample_name, title=\"DM bound state mass\", alignment=\"right\")\n",
    "    plt.xlabel(\"Gen Matched Dark Photon $p_{T}$ (to Electron)\")\n",
    "    plt.ylabel(\"Number of Events\")"
   ]
  },
  {
   "cell_type": "code",
   "execution_count": 12,
   "id": "5544488e-ca4f-4b43-ae9a-2d23abc9a2fd",
   "metadata": {
    "tags": []
   },
   "outputs": [
    {
     "data": {
      "text/plain": [
       "{'2mu2e': {'Total LJs': 57953,\n",
       "  'Gen As to muons': 28872,\n",
       "  'Gen As to electrons': 28872,\n",
       "  'Matched gen As to muons': 28856,\n",
       "  'Matched gen As to electrons': 28766},\n",
       " '2mu2e_matchedLj': {'Total LJs': 57450,\n",
       "  'Gen As to muons': 28725,\n",
       "  'Gen As to electrons': 28725,\n",
       "  'Matched gen As to muons': 28725,\n",
       "  'Matched gen As to electrons': 28725}}"
      ]
     },
     "execution_count": 12,
     "metadata": {},
     "output_type": "execute_result"
    }
   ],
   "source": [
    "out[sample][\"counters\"]['0']"
   ]
  }
 ],
 "metadata": {
  "kernelspec": {
   "display_name": "Python 3 (ipykernel)",
   "language": "python",
   "name": "python3"
  },
  "language_info": {
   "codemirror_mode": {
    "name": "ipython",
    "version": 3
   },
   "file_extension": ".py",
   "mimetype": "text/x-python",
   "name": "python",
   "nbconvert_exporter": "python",
   "pygments_lexer": "ipython3",
   "version": "3.9.18"
  }
 },
 "nbformat": 4,
 "nbformat_minor": 5
}
