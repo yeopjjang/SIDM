{
 "cells": [
  {
   "cell_type": "code",
   "execution_count": 3,
   "id": "89692f50-8fa1-48f7-8ff7-e91b7cc0f564",
   "metadata": {
    "tags": []
   },
   "outputs": [],
   "source": [
    "# python\n",
    "from tqdm.notebook import tqdm\n",
    "import sys\n",
    "import os\n",
    "import importlib\n",
    "# columnar analysis\n",
    "import awkward as ak\n",
    "import mplhep as hep\n",
    "import numpy as np\n",
    "from coffea.nanoevents import NanoEventsFactory, NanoAODSchema\n",
    "# local\n",
    "sys.path.insert(1, os.path.join(sys.path[0], '../../..')) # fixme: there must be a better way to handle this...\n",
    "from sidm.tools import sidm_processor, utilities\n",
    "# always reload local modules to pick up changes during development\n",
    "importlib.reload(sidm_processor)\n",
    "importlib.reload(utilities)\n",
    "# plotting\n",
    "import matplotlib.pyplot as plt\n",
    "utilities.set_plot_style()\n",
    "%matplotlib inline"
   ]
  },
  {
   "cell_type": "code",
   "execution_count": 4,
   "id": "4057e636-020f-47e6-a740-ebd99c7af876",
   "metadata": {
    "tags": []
   },
   "outputs": [],
   "source": [
    "samples_bkg = [\n",
    " \n",
    "    \"TTJets\", \n",
    "    \n",
    "]"
   ]
  },
  {
   "cell_type": "code",
   "execution_count": 20,
   "id": "d2931d7c-f7ee-4f33-afa2-e211bb7bd6f7",
   "metadata": {
    "tags": []
   },
   "outputs": [
    {
     "data": {
      "application/vnd.jupyter.widget-view+json": {
       "model_id": "a72933d687eb43618525c1e9e40c90fa",
       "version_major": 2,
       "version_minor": 0
      },
      "text/plain": [
       "  0%|          | 0/1 [00:00<?, ?it/s]"
      ]
     },
     "metadata": {},
     "output_type": "display_data"
    },
    {
     "name": "stdout",
     "output_type": "stream",
     "text": [
      "root://xcache//store/group/lpcmetx/SIDM/Backgrounds/2018_v2/TTJets_TuneCP5/LLPnanoAODv2/TTJets_TuneCP5_part1_part-0.root\n"
     ]
    },
    {
     "data": {
      "application/vnd.jupyter.widget-view+json": {
       "model_id": "42ed4c87a7564825b9a6e80c230f95c7",
       "version_major": 2,
       "version_minor": 0
      },
      "text/plain": [
       "  0%|          | 0/1 [00:00<?, ?it/s]"
      ]
     },
     "metadata": {},
     "output_type": "display_data"
    },
    {
     "name": "stdout",
     "output_type": "stream",
     "text": [
      "root://xcache//store/group/lpcmetx/SIDM/Backgrounds/2018_v2/Skims/TTJets_TuneCP5/skimmed_output1_0.root\n"
     ]
    }
   ],
   "source": [
    "fileset_bkg = utilities.make_fileset(samples_bkg, \"llpNanoAOD_v2\", location_cfg=\"backgrounds.yaml\")\n",
    "fileset_skim = utilities.make_fileset(samples_bkg, \"skimmed_llpNanoAOD_v2\", location_cfg=\"backgrounds.yaml\")\n",
    "\n",
    "events_bkg, events_skim = {}, {}\n",
    "\n",
    "for i in tqdm(samples_bkg):\n",
    "    fname = fileset_bkg[i][0]\n",
    "    print(fname)\n",
    "    events_bkg[i] = NanoEventsFactory.from_root(\n",
    "        fname,\n",
    "        schemaclass=NanoAODSchema,\n",
    "    ).events()\n",
    "    \n",
    "for i in tqdm(samples_bkg):\n",
    "    fname = fileset_skim[i][0]\n",
    "    print(fname)\n",
    "    events_skim[i] = NanoEventsFactory.from_root(\n",
    "        fname,\n",
    "        schemaclass=NanoAODSchema,\n",
    "    ).events()"
   ]
  },
  {
   "cell_type": "code",
   "execution_count": 21,
   "id": "87385294-f80a-4788-aa1f-706eca856943",
   "metadata": {
    "tags": []
   },
   "outputs": [
    {
     "data": {
      "text/plain": [
       "<Array [1, 1, 1, 1, 1, 1, ... 1, 1, 1, 1, 1, 1] type='46211 * float32[parameters...'>"
      ]
     },
     "execution_count": 21,
     "metadata": {},
     "output_type": "execute_result"
    }
   ],
   "source": [
    "events_bkg['TTJets'].genWeight"
   ]
  },
  {
   "cell_type": "code",
   "execution_count": 22,
   "id": "93605cec-9fad-451a-b2fd-3aff541d4fac",
   "metadata": {
    "tags": []
   },
   "outputs": [
    {
     "data": {
      "text/plain": [
       "<Array [1, 1, 1, 1, 1, 1, ... 1, 1, 1, 1, 1, 1] type='12596 * float32[parameters...'>"
      ]
     },
     "execution_count": 22,
     "metadata": {},
     "output_type": "execute_result"
    }
   ],
   "source": [
    "events_skim['TTJets'].genWeight"
   ]
  },
  {
   "cell_type": "code",
   "execution_count": 19,
   "id": "2987123d-92b1-40bd-9604-7342c3dbc2af",
   "metadata": {
    "tags": []
   },
   "outputs": [
    {
     "data": {
      "text/plain": [
       "['fixedGridRhoFastjetCentralNeutral',\n",
       " 'HLTriggerFinalPath',\n",
       " 'luminosityBlock',\n",
       " 'run',\n",
       " 'Tau',\n",
       " 'boostedTau',\n",
       " 'DSAMuonVertexRefittedTracks',\n",
       " 'ChsMET',\n",
       " 'fixedGridRhoFastjetCentralCalo',\n",
       " 'FsrPhoton',\n",
       " 'fixedGridRhoFastjetCentralChargedPileUp',\n",
       " 'PatMuonVertexRefittedTracks',\n",
       " 'Muon',\n",
       " 'DSAMuonVertex',\n",
       " 'PatDSAMuonVertex',\n",
       " 'L1',\n",
       " 'L1PreFiringWeight',\n",
       " 'PuppiMET',\n",
       " 'FatJet',\n",
       " 'SoftActivityJetNjets10',\n",
       " 'L1simulation',\n",
       " 'DSAMuon',\n",
       " 'PPSLocalTrack',\n",
       " 'fixedGridRhoFastjetCentral',\n",
       " 'HLT',\n",
       " 'DeepMETResponseTune',\n",
       " 'Jet',\n",
       " 'Proton',\n",
       " 'fixedGridRhoFastjetAll',\n",
       " 'SoftActivityJetHT2',\n",
       " 'BS',\n",
       " 'SoftActivityJetHT10',\n",
       " 'PatMuonVertex',\n",
       " 'PatDSAMuonVertexRefittedTracks',\n",
       " 'PV',\n",
       " 'LowPtElectron',\n",
       " 'MET',\n",
       " 'SubJet',\n",
       " 'IsoTrack',\n",
       " 'SoftActivityJetNjets5',\n",
       " 'TrigObj',\n",
       " 'SoftActivityJetNjets2',\n",
       " 'SoftActivityJet',\n",
       " 'SoftActivityJetHT',\n",
       " 'RawPuppiMET',\n",
       " 'event',\n",
       " 'DeepMETResolutionTune',\n",
       " 'Electron',\n",
       " 'RawMET',\n",
       " 'CaloMET',\n",
       " 'SV',\n",
       " 'Photon',\n",
       " 'OtherPV',\n",
       " 'HLTriggerFirstPath',\n",
       " 'L1Reco',\n",
       " 'SoftActivityJetHT5',\n",
       " 'TkMET',\n",
       " 'CorrT1METJet',\n",
       " 'Flag']"
      ]
     },
     "execution_count": 19,
     "metadata": {},
     "output_type": "execute_result"
    }
   ],
   "source": [
    "events_bkg['QCD_Pt800To1000'].fields"
   ]
  },
  {
   "cell_type": "code",
   "execution_count": null,
   "id": "eee59e3b-bcf8-4387-b8ac-101e5abbc174",
   "metadata": {},
   "outputs": [],
   "source": []
  }
 ],
 "metadata": {
  "kernelspec": {
   "display_name": "Python 3 (ipykernel)",
   "language": "python",
   "name": "python3"
  },
  "language_info": {
   "codemirror_mode": {
    "name": "ipython",
    "version": 3
   },
   "file_extension": ".py",
   "mimetype": "text/x-python",
   "name": "python",
   "nbconvert_exporter": "python",
   "pygments_lexer": "ipython3",
   "version": "3.9.18"
  }
 },
 "nbformat": 4,
 "nbformat_minor": 5
}
