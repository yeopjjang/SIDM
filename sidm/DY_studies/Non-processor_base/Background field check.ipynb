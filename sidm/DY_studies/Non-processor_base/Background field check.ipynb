{
 "cells": [
  {
   "cell_type": "code",
   "execution_count": 57,
   "id": "457ebf84-15a6-416d-9b64-c577d1857592",
   "metadata": {
    "tags": []
   },
   "outputs": [],
   "source": [
    "# python\n",
    "from tqdm.notebook import tqdm\n",
    "import sys\n",
    "import os\n",
    "import importlib\n",
    "# columnar analysis\n",
    "import awkward as ak\n",
    "import mplhep as hep\n",
    "import numpy as np\n",
    "from coffea.nanoevents import NanoEventsFactory, NanoAODSchema\n",
    "# local\n",
    "sys.path.insert(1, os.path.join(sys.path[0], '../../..')) # fixme: there must be a better way to handle this...\n",
    "from sidm.tools import sidm_processor, utilities\n",
    "# always reload local modules to pick up changes during development\n",
    "importlib.reload(sidm_processor)\n",
    "importlib.reload(utilities)\n",
    "# plotting\n",
    "import matplotlib.pyplot as plt\n",
    "utilities.set_plot_style()\n",
    "%matplotlib inline"
   ]
  },
  {
   "cell_type": "code",
   "execution_count": 58,
   "id": "55206c0e-78b8-431a-bf63-318905ba5e2b",
   "metadata": {
    "tags": []
   },
   "outputs": [],
   "source": [
    "samples_bkg = [\n",
    "    \"DYJetsToMuMu_M10to50\",\n",
    "    \"DYJetsToMuMu_M50\", \n",
    "    \n",
    "    \"QCD_Pt15To20\", # ISSUE\n",
    "    \"QCD_Pt20To30\",\n",
    "    \"QCD_Pt30To50\",\n",
    "    \"QCD_Pt50To80\", \n",
    "    \"QCD_Pt80To120\",\n",
    "    \"QCD_Pt120To170\", # ISSUE\n",
    "    \"QCD_Pt170To300\",\n",
    "    \"QCD_Pt300To470\",\n",
    "    \"QCD_Pt470To600\",\n",
    "    \"QCD_Pt600To800\",\n",
    "    \"QCD_Pt800To1000\", # ISSUE\n",
    "    \"QCD_Pt1000\",\n",
    "\n",
    "    \"TTJets\", \n",
    "    \n",
    "]"
   ]
  },
  {
   "cell_type": "code",
   "execution_count": 59,
   "id": "7ca3e097-0a72-44ab-91c0-8e80c194d888",
   "metadata": {
    "tags": []
   },
   "outputs": [
    {
     "data": {
      "application/vnd.jupyter.widget-view+json": {
       "model_id": "2eaf1ad0453a4f10946b4cb78ce13a89",
       "version_major": 2,
       "version_minor": 0
      },
      "text/plain": [
       "  0%|          | 0/15 [00:00<?, ?it/s]"
      ]
     },
     "metadata": {},
     "output_type": "display_data"
    },
    {
     "name": "stdout",
     "output_type": "stream",
     "text": [
      "root://xcache//store/group/lpcmetx/SIDM//Backgrounds/2018_v2/DYJetsToMuMu_M-10to50_H2ErratumFix_TuneCP5_13TeV-powhegMiNNLO-pythia8-photos/output_10.root\n",
      "root://xcache//store/group/lpcmetx/SIDM//Backgrounds/2018_v2/DYJetsToMuMu_M-50_massWgtFix_TuneCP5_13TeV-powhegMiNNLO-pythia8-photos/output_10.root\n",
      "root://xcache//store/group/lpcmetx/SIDM//Backgrounds/2018_v2/QCD_Pt-15To20_MuEnrichedPt5_TuneCP5_13TeV-pythia8/output_10.root\n",
      "root://xcache//store/group/lpcmetx/SIDM//Backgrounds/2018_v2/QCD_Pt-20To30_MuEnrichedPt5_TuneCP5_13TeV-pythia8/output_10.root\n",
      "root://xcache//store/group/lpcmetx/SIDM//Backgrounds/2018_v2/QCD_Pt-30To50_MuEnrichedPt5_TuneCP5_13TeV-pythia8/output_1000.root\n",
      "root://xcache//store/group/lpcmetx/SIDM//Backgrounds/2018_v2/QCD_Pt-50To80_MuEnrichedPt5_TuneCP5_13TeV-pythia8/output_10.root\n",
      "root://xcache//store/group/lpcmetx/SIDM//Backgrounds/2018_v2/QCD_Pt-80To120_MuEnrichedPt5_TuneCP5_13TeV-pythia8/output_1001.root\n",
      "root://xcache//store/group/lpcmetx/SIDM//Backgrounds/2018_v2/QCD_Pt-120To170_MuEnrichedPt5_TuneCP5_13TeV-pythia8/output_10.root\n",
      "root://xcache//store/group/lpcmetx/SIDM//Backgrounds/2018_v2/QCD_Pt-170To300_MuEnrichedPt5_TuneCP5_13TeV-pythia8/output_10.root\n",
      "root://xcache//store/group/lpcmetx/SIDM//Backgrounds/2018_v2/QCD_Pt-300To470_MuEnrichedPt5_TuneCP5_13TeV-pythia8/output_10.root\n",
      "root://xcache//store/group/lpcmetx/SIDM//Backgrounds/2018_v2/QCD_Pt-470To600_MuEnrichedPt5_TuneCP5_13TeV-pythia8/output_1001.root\n",
      "root://xcache//store/group/lpcmetx/SIDM//Backgrounds/2018_v2/QCD_Pt-600To800_MuEnrichedPt5_TuneCP5_13TeV-pythia8/output_10.root\n",
      "root://xcache//store/group/lpcmetx/SIDM//Backgrounds/2018_v2/QCD_Pt-800To1000_MuEnrichedPt5_TuneCP5_13TeV-pythia8/output_100.root\n",
      "root://xcache//store/group/lpcmetx/SIDM//Backgrounds/2018_v2/QCD_Pt-1000_MuEnrichedPt5_TuneCP5_13TeV-pythia8/output_10.root\n",
      "root://xcache//store/group/lpcmetx/SIDM//Backgrounds/2018_v2/TTJets_TuneCP5/LLPnanoAODv2/TTJets_TuneCP5_part1_part-1.root\n"
     ]
    }
   ],
   "source": [
    "fileset_bkg = utilities.make_fileset(samples_bkg, \"llpNanoAOD_v2\", location_cfg=\"backgrounds.yaml\")\n",
    "\n",
    "events_bkg = {}\n",
    "\n",
    "for i in tqdm(samples_bkg):\n",
    "    fname = fileset_bkg[i][1]\n",
    "    print(fname)\n",
    "    events_bkg[i] = NanoEventsFactory.from_root(\n",
    "        fname,\n",
    "        schemaclass=NanoAODSchema,\n",
    "    ).events()"
   ]
  },
  {
   "cell_type": "code",
   "execution_count": 62,
   "id": "8e202148-5c9a-4662-b921-ae8f2f279585",
   "metadata": {
    "tags": []
   },
   "outputs": [
    {
     "name": "stdout",
     "output_type": "stream",
     "text": [
      "DYJetsToMuMu_M10to50 length : 12540\n",
      "DYJetsToMuMu_M50 length : 30160\n",
      "QCD_Pt15To20 length : 19806\n",
      "QCD_Pt20To30 length : 19785\n",
      "QCD_Pt30To50 length : 10987\n",
      "QCD_Pt50To80 length : 19909\n",
      "QCD_Pt80To120 length : 19733\n",
      "QCD_Pt120To170 length : 9210\n",
      "QCD_Pt170To300 length : 9027\n",
      "QCD_Pt300To470 length : 8864\n",
      "QCD_Pt470To600 length : 8886\n",
      "QCD_Pt600To800 length : 8769\n",
      "QCD_Pt800To1000 length : 15048\n",
      "QCD_Pt1000 length : 5856\n",
      "TTJets length : 31722\n"
     ]
    }
   ],
   "source": [
    "for i in samples_bkg:\n",
    "    print(i, \"length :\", len(events_bkg['{0}'.format(i)].Jet))"
   ]
  },
  {
   "cell_type": "code",
   "execution_count": 64,
   "id": "a4c94506-2f89-4eaa-abd0-339fda90220c",
   "metadata": {
    "tags": []
   },
   "outputs": [
    {
     "data": {
      "text/plain": [
       "19806"
      ]
     },
     "execution_count": 64,
     "metadata": {},
     "output_type": "execute_result"
    }
   ],
   "source": [
    "events_bkg['QCD_Pt15To20'].PV"
   ]
  },
  {
   "cell_type": "code",
   "execution_count": null,
   "id": "71bb7b29-2990-4d33-bb38-1155ac5f8b1d",
   "metadata": {},
   "outputs": [],
   "source": []
  }
 ],
 "metadata": {
  "kernelspec": {
   "display_name": "Python 3 (ipykernel)",
   "language": "python",
   "name": "python3"
  },
  "language_info": {
   "codemirror_mode": {
    "name": "ipython",
    "version": 3
   },
   "file_extension": ".py",
   "mimetype": "text/x-python",
   "name": "python",
   "nbconvert_exporter": "python",
   "pygments_lexer": "ipython3",
   "version": "3.9.18"
  }
 },
 "nbformat": 4,
 "nbformat_minor": 5
}
