{
 "cells": [
  {
   "cell_type": "code",
   "execution_count": 1,
   "id": "50aa0304-014b-4ff9-bdc7-a9d244385f1d",
   "metadata": {},
   "outputs": [],
   "source": [
    "import awkward as ak"
   ]
  },
  {
   "cell_type": "code",
   "execution_count": 2,
   "id": "23a55375-c167-40dc-a4c7-f2ef79efa50e",
   "metadata": {},
   "outputs": [],
   "source": [
    "test = ak.Array([[1,2,3,4],[1,5,6,7],[10,11,12],[10,10,10],[]])"
   ]
  },
  {
   "cell_type": "code",
   "execution_count": 3,
   "id": "d77686e8-3e65-4d76-a567-720a5e6b8467",
   "metadata": {},
   "outputs": [
    {
     "data": {
      "text/plain": [
       "<Array [[1, 2, 3, 4], [1, ... [10, 10, 10], []] type='5 * var * int64'>"
      ]
     },
     "execution_count": 3,
     "metadata": {},
     "output_type": "execute_result"
    }
   ],
   "source": [
    "test"
   ]
  },
  {
   "cell_type": "code",
   "execution_count": 4,
   "id": "cc20f16a-ac56-42b4-bf90-8b21e8fae30f",
   "metadata": {},
   "outputs": [
    {
     "data": {
      "text/plain": [
       "<Array [[1], [1], [], [], []] type='5 * var * int64'>"
      ]
     },
     "execution_count": 4,
     "metadata": {},
     "output_type": "execute_result"
    }
   ],
   "source": [
    "test[test == 1]"
   ]
  },
  {
   "cell_type": "code",
   "execution_count": 5,
   "id": "aec4b943-4e35-49c6-8253-4aadba919af7",
   "metadata": {},
   "outputs": [],
   "source": [
    "from coffea.nanoevents.methods import nanoaod\n",
    "from coffea.nanoevents.methods import vector as cvec"
   ]
  },
  {
   "cell_type": "code",
   "execution_count": 6,
   "id": "780f74c0-6522-4cfe-9d6c-65819ff309d5",
   "metadata": {},
   "outputs": [],
   "source": [
    "test2 = ak.zip(\n",
    "            {\"x\": test,\n",
    "             \"y\": test,\n",
    "             \"z\": test,\n",
    "             \"t\": test},\n",
    "            with_name=\"LorentzVector\",\n",
    "            behavior=nanoaod.behavior\n",
    "        )"
   ]
  },
  {
   "cell_type": "code",
   "execution_count": 7,
   "id": "844e2ed2-9a81-4255-8c25-af3e286cc65f",
   "metadata": {},
   "outputs": [
    {
     "name": "stdout",
     "output_type": "stream",
     "text": [
      "[{x: 1, y: 1, z: 1, t: 1}, {x: 1, y: 1, z: 1, t: 1, ... {x: 1, y: 1, z: 1, t: 1}]\n"
     ]
    }
   ],
   "source": [
    "print(test2.nearest(test2)[0])"
   ]
  },
  {
   "cell_type": "code",
   "execution_count": 8,
   "id": "95bf8ba2-960b-4b75-8ad1-cb707415d5a4",
   "metadata": {},
   "outputs": [],
   "source": [
    "umm = ak.Array([[1,2,3,4],[1,5,6,7],[10,11,12],[],[]])"
   ]
  },
  {
   "cell_type": "code",
   "execution_count": 9,
   "id": "82eeed2f-a5de-488d-a256-c9ef9a6c8698",
   "metadata": {},
   "outputs": [],
   "source": [
    "test3 = ak.zip(\n",
    "            {\"x\": umm,\n",
    "             \"y\": umm,\n",
    "             \"z\": umm,\n",
    "             \"t\": umm},\n",
    "            with_name=\"LorentzVector\",\n",
    "            behavior=nanoaod.behavior\n",
    "        )"
   ]
  },
  {
   "cell_type": "code",
   "execution_count": 12,
   "id": "b979e426-57d7-4275-9731-99b6e84efc72",
   "metadata": {},
   "outputs": [
    {
     "name": "stdout",
     "output_type": "stream",
     "text": [
      "[{x: 1, y: 1, z: 1, t: 1}, {x: 1, y: 1, z: 1, t: 1, ... {x: 1, y: 1, z: 1, t: 1}]\n"
     ]
    }
   ],
   "source": [
    "print(test2.nearest(test3)[0])"
   ]
  },
  {
   "cell_type": "code",
   "execution_count": 13,
   "id": "e6ca9bd0-73ea-4ccf-b0b1-6773ec3f930a",
   "metadata": {
    "tags": []
   },
   "outputs": [
    {
     "name": "stdout",
     "output_type": "stream",
     "text": [
      "[{x: 1, y: 1, z: 1, t: 1}, {x: 1, y: 1, z: 1, t: 1, ... {x: 6, y: 6, z: 6, t: 6}]\n"
     ]
    }
   ],
   "source": [
    "print(test2.nearest(test3)[1])"
   ]
  },
  {
   "cell_type": "code",
   "execution_count": 14,
   "id": "25dd7103-01fe-4460-a8aa-cc1371565d9c",
   "metadata": {
    "tags": []
   },
   "outputs": [
    {
     "name": "stdout",
     "output_type": "stream",
     "text": [
      "[{x: 10, y: 10, z: 10, t: 10}, ... z: 11, t: 11}, {x: 11, y: 11, z: 11, t: 11}]\n"
     ]
    }
   ],
   "source": [
    "print(test2.nearest(test3)[2])"
   ]
  },
  {
   "cell_type": "code",
   "execution_count": 11,
   "id": "7e82d2ec-5a02-4fd7-b37b-6b506455feab",
   "metadata": {},
   "outputs": [
    {
     "name": "stdout",
     "output_type": "stream",
     "text": [
      "[]\n"
     ]
    }
   ],
   "source": [
    "print(test3.nearest(test2)[3])"
   ]
  },
  {
   "cell_type": "code",
   "execution_count": 15,
   "id": "861eca0c-782c-4374-817a-f2daa5faaf82",
   "metadata": {},
   "outputs": [
    {
     "data": {
      "text/plain": [
       "<Array [4, 4, 3, 3, 0] type='5 * int64'>"
      ]
     },
     "execution_count": 15,
     "metadata": {},
     "output_type": "execute_result"
    }
   ],
   "source": [
    "ak.num(test2.nearest(test3))"
   ]
  },
  {
   "cell_type": "code",
   "execution_count": 16,
   "id": "c512afee-5907-402c-9c66-66a2ac3fc4c7",
   "metadata": {
    "tags": []
   },
   "outputs": [
    {
     "name": "stdout",
     "output_type": "stream",
     "text": [
      "[[{x: 1, y: 1, z: 1, t: 1}, {x: 1, y: 1, z: 1, ... t: 11}], [None, None, None], []]\n"
     ]
    }
   ],
   "source": [
    "print(test2.nearest(test3))"
   ]
  },
  {
   "cell_type": "code",
   "execution_count": 18,
   "id": "f228f5cd-51cd-4a15-8ddf-5e06081fdda8",
   "metadata": {
    "tags": []
   },
   "outputs": [
    {
     "data": {
      "text/plain": [
       "<Array [None, None, None] type='3 * ?float64'>"
      ]
     },
     "execution_count": 18,
     "metadata": {},
     "output_type": "execute_result"
    }
   ],
   "source": [
    "test2.nearest(test3)[3].pt"
   ]
  },
  {
   "cell_type": "code",
   "execution_count": 24,
   "id": "8db57ee6-c038-4e8d-88cf-f0e9219be711",
   "metadata": {
    "tags": []
   },
   "outputs": [
    {
     "ename": "ValueError",
     "evalue": "in ListOffsetArray64 attempting to get 0, index out of range\n\n(https://github.com/scikit-hep/awkward-1.0/blob/1.10.3/src/cpu-kernels/awkward_NumpyArray_getitem_next_at.cpp#L21)",
     "output_type": "error",
     "traceback": [
      "\u001b[0;31m---------------------------------------------------------------------------\u001b[0m",
      "\u001b[0;31mValueError\u001b[0m                                Traceback (most recent call last)",
      "Cell \u001b[0;32mIn[24], line 1\u001b[0m\n\u001b[0;32m----> 1\u001b[0m \u001b[38;5;241m~\u001b[39mak\u001b[38;5;241m.\u001b[39mis_none(\u001b[43mtest2\u001b[49m\u001b[38;5;241;43m.\u001b[39;49m\u001b[43mnearest\u001b[49m\u001b[43m(\u001b[49m\u001b[43mtest3\u001b[49m\u001b[43m)\u001b[49m\u001b[43m[\u001b[49m\u001b[43m:\u001b[49m\u001b[43m,\u001b[49m\u001b[38;5;241;43m0\u001b[39;49m\u001b[43m]\u001b[49m)\n",
      "File \u001b[0;32m/opt/conda/lib/python3.9/site-packages/awkward/highlevel.py:991\u001b[0m, in \u001b[0;36mArray.__getitem__\u001b[0;34m(self, where)\u001b[0m\n\u001b[1;32m    579\u001b[0m \u001b[38;5;250m\u001b[39m\u001b[38;5;124;03m\"\"\"\u001b[39;00m\n\u001b[1;32m    580\u001b[0m \u001b[38;5;124;03mArgs:\u001b[39;00m\n\u001b[1;32m    581\u001b[0m \u001b[38;5;124;03m    where (many types supported; see below): Index of positions to\u001b[39;00m\n\u001b[0;32m   (...)\u001b[0m\n\u001b[1;32m    988\u001b[0m \u001b[38;5;124;03mhave the same dimension as the array being indexed.\u001b[39;00m\n\u001b[1;32m    989\u001b[0m \u001b[38;5;124;03m\"\"\"\u001b[39;00m\n\u001b[1;32m    990\u001b[0m \u001b[38;5;28;01mif\u001b[39;00m \u001b[38;5;129;01mnot\u001b[39;00m \u001b[38;5;28mhasattr\u001b[39m(\u001b[38;5;28mself\u001b[39m, \u001b[38;5;124m\"\u001b[39m\u001b[38;5;124m_tracers\u001b[39m\u001b[38;5;124m\"\u001b[39m):\n\u001b[0;32m--> 991\u001b[0m     tmp \u001b[38;5;241m=\u001b[39m ak\u001b[38;5;241m.\u001b[39m_util\u001b[38;5;241m.\u001b[39mwrap(\u001b[38;5;28;43mself\u001b[39;49m\u001b[38;5;241;43m.\u001b[39;49m\u001b[43mlayout\u001b[49m\u001b[43m[\u001b[49m\u001b[43mwhere\u001b[49m\u001b[43m]\u001b[49m, \u001b[38;5;28mself\u001b[39m\u001b[38;5;241m.\u001b[39m_behavior)\n\u001b[1;32m    992\u001b[0m \u001b[38;5;28;01melse\u001b[39;00m:\n\u001b[1;32m    993\u001b[0m     tmp \u001b[38;5;241m=\u001b[39m ak\u001b[38;5;241m.\u001b[39m_connect\u001b[38;5;241m.\u001b[39m_jax\u001b[38;5;241m.\u001b[39mjax_utils\u001b[38;5;241m.\u001b[39m_jaxtracers_getitem(\u001b[38;5;28mself\u001b[39m, where)\n",
      "\u001b[0;31mValueError\u001b[0m: in ListOffsetArray64 attempting to get 0, index out of range\n\n(https://github.com/scikit-hep/awkward-1.0/blob/1.10.3/src/cpu-kernels/awkward_NumpyArray_getitem_next_at.cpp#L21)"
     ]
    }
   ],
   "source": [
    "~ak.is_none(test2.nearest(test3)[:,0])"
   ]
  },
  {
   "cell_type": "code",
   "execution_count": null,
   "id": "74cfdf59-6615-4a90-abe0-484463bdae0f",
   "metadata": {},
   "outputs": [],
   "source": []
  }
 ],
 "metadata": {
  "kernelspec": {
   "display_name": "Python 3 (ipykernel)",
   "language": "python",
   "name": "python3"
  },
  "language_info": {
   "codemirror_mode": {
    "name": "ipython",
    "version": 3
   },
   "file_extension": ".py",
   "mimetype": "text/x-python",
   "name": "python",
   "nbconvert_exporter": "python",
   "pygments_lexer": "ipython3",
   "version": "3.9.18"
  }
 },
 "nbformat": 4,
 "nbformat_minor": 5
}
