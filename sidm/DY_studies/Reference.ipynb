{
 "cells": [
  {
   "cell_type": "code",
   "execution_count": 1,
   "id": "b10c186f-a7a2-405a-b8ea-df120417695d",
   "metadata": {
    "tags": []
   },
   "outputs": [
    {
     "data": {
      "text/plain": [
       "['/home/cms-jovyan/workspace/DY_processor_with_LLPNanoAOD/sidm/DY_studies',\n",
       " '/home/cms-jovyan/workspace/DY_processor_with_LLPNanoAOD/sidm/DY_studies/../..',\n",
       " '/opt/conda/lib/python39.zip',\n",
       " '/opt/conda/lib/python3.9',\n",
       " '/opt/conda/lib/python3.9/lib-dynload',\n",
       " '',\n",
       " '/opt/conda/lib/python3.9/site-packages']"
      ]
     },
     "execution_count": 1,
     "metadata": {},
     "output_type": "execute_result"
    }
   ],
   "source": [
    "import sys, os\n",
    "sys.path.insert(1, os.path.join(sys.path[0], '../..')) # fixme: there must be a better way to handle this...\n",
    "sys.path"
   ]
  },
  {
   "cell_type": "code",
   "execution_count": 2,
   "id": "01b0f8b1-054e-4dcc-a82d-8c1f060d88a5",
   "metadata": {
    "tags": []
   },
   "outputs": [],
   "source": [
    "# python\n",
    "import sys\n",
    "import statistics\n",
    "import os\n",
    "import importlib\n",
    "# columnar analysis\n",
    "import awkward as ak\n",
    "from dask.distributed import Client\n",
    "from coffea.nanoevents import NanoEventsFactory, NanoAODSchema\n",
    "from coffea import processor\n",
    "import hist\n",
    "import matplotlib.patches as patches\n",
    "# local\n",
    "sys.path.insert(1, os.path.join(sys.path[0], '../..')) # fixme: there must be a better way to handle this...\n",
    "from sidm.tools import sidm_processor, utilities, cutflow, scaleout\n",
    "# always reload local modules to pick up changes during development\n",
    "importlib.reload(sidm_processor)\n",
    "importlib.reload(utilities)\n",
    "importlib.reload(scaleout)\n",
    "# plotting\n",
    "import matplotlib.pyplot as plt\n",
    "#utilities.set_plot_style()\n",
    "%matplotlib inline"
   ]
  },
  {
   "cell_type": "code",
   "execution_count": 3,
   "id": "17f1b3c8-e28d-45b0-b409-a9b20a6a1938",
   "metadata": {
    "tags": []
   },
   "outputs": [],
   "source": [
    "samples = []\n",
    "bg_samples = [\n",
    "    \"TTJets\",\n",
    "]\n",
    "\n",
    "#######################################################\n",
    "SIDM_4mu_100GeV_0p25GeV_samples = [\n",
    "    \"4mu_100GeV_0p25GeV_0p02mm\",\n",
    "    \"4mu_100GeV_0p25GeV_0p2mm\",\n",
    "    \"4mu_100GeV_0p25GeV_2p0mm\",\n",
    "    \"4mu_100GeV_0p25GeV_10p0mm\",\n",
    "    \"4mu_100GeV_0p25GeV_20p0mm\",\n",
    "]\n",
    "SIDM_4mu_100GeV_1p2GeV_samples = [\n",
    "    \"4mu_100GeV_1p2GeV_0p096mm\",\n",
    "    \"4mu_100GeV_1p2GeV_0p96mm\",\n",
    "    \"4mu_100GeV_1p2GeV_9p6mm\",\n",
    "    \"4mu_100GeV_1p2GeV_48p0mm\",\n",
    "    \"4mu_100GeV_1p2GeV_96p0mm\",\n",
    "]\n",
    "SIDM_4mu_100GeV_5GeV_samples = [\n",
    "    \"4mu_100GeV_5GeV_0p4mm\",\n",
    "    \"4mu_100GeV_5GeV_4p0mm\",\n",
    "    \"4mu_100GeV_5GeV_40p0mm\", \n",
    "    \"4mu_100GeV_5GeV_200p0mm\",\n",
    "    \"4mu_100GeV_5GeV_400p0mm\",\n",
    "]\n",
    "#######################################################\n",
    "SIDM_4mu_150GeV_0p25GeV_samples = [\n",
    "    \"4mu_150GeV_0p25GeV_0p013mm\",\n",
    "    \"4mu_150GeV_0p25GeV_0p13mm\",\n",
    "    \"4mu_150GeV_0p25GeV_1p3mm\",\n",
    "    \"4mu_150GeV_0p25GeV_6p7mm\",\n",
    "    \"4mu_150GeV_0p25GeV_13p0mm\",\n",
    "]\n",
    "SIDM_4mu_150GeV_1p2GeV_samples = [\n",
    "    \"4mu_150GeV_1p2GeV_0p064mm\",\n",
    "    \"4mu_150GeV_1p2GeV_0p64mm\",\n",
    "    \"4mu_150GeV_1p2GeV_6p4mm\",\n",
    "    \"4mu_150GeV_1p2GeV_32p0mm\",\n",
    "    \"4mu_150GeV_1p2GeV_64p0mm\",\n",
    "]\n",
    "SIDM_4mu_150GeV_5GeV_samples = [\n",
    "    \"4mu_150GeV_5GeV_0p27mm\",\n",
    "    \"4mu_150GeV_5GeV_2p7mm\",\n",
    "    \"4mu_150GeV_5GeV_27p0mm\",\n",
    "    \"4mu_150GeV_5GeV_130p0mm\",\n",
    "    \"4mu_150GeV_5GeV_270p0mm\",\n",
    "]\n",
    "#######################################################\n",
    "SIDM_4mu_200GeV_0p25GeV_samples = [\n",
    "    \"4mu_200GeV_0p25GeV_0p01mm\",\n",
    "    \"4mu_200GeV_0p25GeV_0p1mm\",\n",
    "    \"4mu_200GeV_0p25GeV_1p0mm\",\n",
    "    \"4mu_200GeV_0p25GeV_5p0mm\",\n",
    "    \"4mu_200GeV_0p25GeV_10p0mm\",\n",
    "]\n",
    "SIDM_4mu_200GeV_1p2GeV_samples = [\n",
    "    \"4mu_200GeV_1p2GeV_0p048mm\",\n",
    "    \"4mu_200GeV_1p2GeV_0p48mm\",\n",
    "    \"4mu_200GeV_1p2GeV_4p8mm\",\n",
    "    \"4mu_200GeV_1p2GeV_24p0mm\",\n",
    "    \"4mu_200GeV_1p2GeV_48p0mm\",\n",
    "]\n",
    "SIDM_4mu_200GeV_5GeV_samples = [\n",
    "    \"4mu_200GeV_5GeV_0p2mm\",\n",
    "    \"4mu_200GeV_5GeV_2p0mm\",\n",
    "    \"4mu_200GeV_5GeV_20p0mm\",\n",
    "    \"4mu_200GeV_5GeV_100p0mm\",\n",
    "    \"4mu_200GeV_5GeV_200p0mm\",\n",
    "]\n",
    "#######################################################\n",
    "SIDM_4mu_500GeV_0p25GeV_samples = [\n",
    "    \"4mu_500GeV_0p25GeV_0p004mm\",\n",
    "    \"4mu_500GeV_0p25GeV_0p04mm\",\n",
    "    \"4mu_500GeV_0p25GeV_0p4mm\",\n",
    "    \"4mu_500GeV_0p25GeV_2p0mm\",\n",
    "    \"4mu_500GeV_0p25GeV_4p0mm\",\n",
    "]\n",
    "SIDM_4mu_500GeV_1p2GeV_samples = [\n",
    "    \"4mu_500GeV_1p2GeV_0p019mm\",\n",
    "    \"4mu_500GeV_1p2GeV_0p19mm\",\n",
    "    \"4mu_500GeV_1p2GeV_1p9mm\",\n",
    "    \"4mu_500GeV_1p2GeV_9p6mm\",\n",
    "    \"4mu_500GeV_1p2GeV_19p0mm\",\n",
    "]\n",
    "SIDM_4mu_500GeV_5GeV_samples = [\n",
    "    \"4mu_500GeV_5GeV_0p08mm\",\n",
    "    \"4mu_500GeV_5GeV_0p8mm\",\n",
    "    \"4mu_500GeV_5GeV_8p0mm\",\n",
    "    \"4mu_500GeV_5GeV_40p0mm\",\n",
    "    \"4mu_500GeV_5GeV_80p0mm\",\n",
    "    \n",
    "    #\"4mu_500GeV_5GeV_800p0mm\",\n",
    "    #\"4mu_500GeV_5GeV_8000p0mm\", these are also here as long Lxy tests\n",
    "]\n",
    "#######################################################\n",
    "SIDM_4mu_800GeV_0p25GeV_samples = [\n",
    "    \"4mu_800GeV_0p25GeV_0p0025mm\",\n",
    "    \"4mu_800GeV_0p25GeV_0p025mm\",\n",
    "    \"4mu_800GeV_0p25GeV_0p25mm\",\n",
    "    \"4mu_800GeV_0p25GeV_1p2mm\",\n",
    "    \"4mu_800GeV_0p25GeV_2p5mm\",\n",
    "]\n",
    "SIDM_4mu_800GeV_1p2GeV_samples = [\n",
    "    \"4mu_800GeV_1p2GeV_0p012mm\",\n",
    "    \"4mu_800GeV_1p2GeV_0p12mm\",\n",
    "    \"4mu_800GeV_1p2GeV_1p2mm\",\n",
    "    \"4mu_800GeV_1p2GeV_6p0mm\",\n",
    "    \"4mu_800GeV_1p2GeV_12p0mm\",\n",
    "]\n",
    "SIDM_4mu_800GeV_5GeV_samples = [\n",
    "    \"4mu_800GeV_5GeV_0p05mm\",\n",
    "    \"4mu_800GeV_5GeV_0p5mm\",\n",
    "    \"4mu_800GeV_5GeV_5p0mm\",\n",
    "    \"4mu_800GeV_5GeV_25p0mm\",\n",
    "    \"4mu_800GeV_5GeV_50p0mm\",\n",
    "]\n",
    "#######################################################\n",
    "SIDM_4mu_1000GeV_0p25GeV_samples = [ # getting keyErrors on all of these; I think they might be empty\n",
    "    \"4mu_1000GeV_0p25GeV_0p002mm\", # Running gives \"cannot unpack non-iterable NoneType object\"\n",
    "    \"4mu_1000GeV_0p25GeV_0p02mm\",\n",
    "    \"4mu_1000GeV_0p25GeV_0p2mm\",\n",
    "    \"4mu_1000GeV_0p25GeV_1p0mm\",\n",
    "    \"4mu_1000GeV_0p25GeV_2p0mm\",\n",
    "]\n",
    "SIDM_4mu_1000GeV_1p2GeV_samples = [ # these also give keyErrors\n",
    "    \"4mu_1000GeV_1p2GeV_0p0096mm\",\n",
    "    \"4mu_1000GeV_1p2GeV_0p096mm\",\n",
    "    \"4mu_1000GeV_1p2GeV_0p96mm\",\n",
    "    \"4mu_1000GeV_1p2GeV_4p8mm\",\n",
    "    \"4mu_1000GeV_1p2GeV_9p6mm\",\n",
    "]\n",
    "SIDM_4mu_1000GeV_5GeV_samples = [\n",
    "    \"4mu_1000GeV_5GeV_0p04mm\",\n",
    "    \"4mu_1000GeV_5GeV_0p4mm\",\n",
    "    \"4mu_1000GeV_5GeV_4p0mm\",\n",
    "    \"4mu_1000GeV_5GeV_20p0mm\",\n",
    "    \"4mu_1000GeV_5GeV_40p0mm\",\n",
    "]\n",
    "#######################################################\n",
    "\n",
    "\n",
    "SIDM_4mu_100GeV_samples = []\n",
    "SIDM_4mu_100GeV_samples = SIDM_4mu_100GeV_samples + SIDM_4mu_100GeV_0p25GeV_samples + SIDM_4mu_100GeV_1p2GeV_samples + SIDM_4mu_100GeV_5GeV_samples\n",
    "\n",
    "SIDM_4mu_150GeV_samples = []\n",
    "SIDM_4mu_150GeV_samples = SIDM_4mu_150GeV_samples + SIDM_4mu_150GeV_0p25GeV_samples + SIDM_4mu_150GeV_1p2GeV_samples + SIDM_4mu_150GeV_5GeV_samples\n",
    "\n",
    "SIDM_4mu_200GeV_samples = []\n",
    "SIDM_4mu_200GeV_samples = SIDM_4mu_200GeV_samples + SIDM_4mu_200GeV_0p25GeV_samples + SIDM_4mu_200GeV_1p2GeV_samples + SIDM_4mu_200GeV_5GeV_samples\n",
    "\n",
    "SIDM_4mu_500GeV_samples = []\n",
    "SIDM_4mu_500GeV_samples = SIDM_4mu_500GeV_samples + SIDM_4mu_500GeV_0p25GeV_samples + SIDM_4mu_500GeV_1p2GeV_samples + SIDM_4mu_500GeV_5GeV_samples\n",
    "\n",
    "SIDM_4mu_800GeV_samples = []\n",
    "SIDM_4mu_800GeV_samples = SIDM_4mu_800GeV_samples + SIDM_4mu_800GeV_0p25GeV_samples + SIDM_4mu_800GeV_1p2GeV_samples + SIDM_4mu_800GeV_5GeV_samples\n",
    "\n",
    "SIDM_4mu_1000GeV_samples = []\n",
    "SIDM_4mu_1000GeV_samples = SIDM_4mu_1000GeV_samples + SIDM_4mu_1000GeV_0p25GeV_samples + SIDM_4mu_1000GeV_1p2GeV_samples + SIDM_4mu_1000GeV_5GeV_samples\n",
    "\n",
    "samples_sublists = [\n",
    "    SIDM_4mu_100GeV_0p25GeV_samples, SIDM_4mu_100GeV_1p2GeV_samples, SIDM_4mu_100GeV_5GeV_samples, \n",
    "    SIDM_4mu_150GeV_0p25GeV_samples, SIDM_4mu_150GeV_1p2GeV_samples, SIDM_4mu_150GeV_5GeV_samples,\n",
    "    SIDM_4mu_200GeV_0p25GeV_samples, SIDM_4mu_200GeV_1p2GeV_samples, SIDM_4mu_200GeV_5GeV_samples, \n",
    "    SIDM_4mu_500GeV_0p25GeV_samples, SIDM_4mu_500GeV_1p2GeV_samples, SIDM_4mu_500GeV_5GeV_samples,\n",
    "    SIDM_4mu_800GeV_0p25GeV_samples, SIDM_4mu_800GeV_1p2GeV_samples, SIDM_4mu_800GeV_5GeV_samples,\n",
    "    #SIDM_4mu_1000GeV_0p25GeV_samples, \n",
    "    SIDM_4mu_1000GeV_1p2GeV_samples, # These two groups don't work at all\n",
    "    SIDM_4mu_1000GeV_5GeV_samples,\n",
    "    ]"
   ]
  },
  {
   "cell_type": "code",
   "execution_count": 4,
   "id": "68fc1368-57ac-481d-a258-846eaa2b87a9",
   "metadata": {
    "tags": []
   },
   "outputs": [
    {
     "name": "stdout",
     "output_type": "stream",
     "text": [
      "4mu_100GeV_0p25GeV_0p02mm\n",
      "4mu_100GeV_1p2GeV_0p096mm\n",
      "4mu_100GeV_5GeV_0p4mm\n",
      "4mu_150GeV_0p25GeV_0p013mm\n",
      "4mu_150GeV_1p2GeV_0p064mm\n",
      "4mu_150GeV_5GeV_0p27mm\n",
      "4mu_200GeV_0p25GeV_0p01mm\n",
      "4mu_200GeV_1p2GeV_0p048mm\n",
      "4mu_200GeV_5GeV_0p2mm\n",
      "4mu_500GeV_0p25GeV_0p004mm\n",
      "4mu_500GeV_1p2GeV_0p019mm\n",
      "4mu_500GeV_5GeV_0p08mm\n",
      "4mu_800GeV_0p25GeV_0p0025mm\n",
      "4mu_800GeV_1p2GeV_0p012mm\n",
      "4mu_800GeV_5GeV_0p05mm\n",
      "4mu_1000GeV_1p2GeV_0p0096mm\n",
      "4mu_1000GeV_5GeV_0p04mm\n",
      "['TTJets', '4mu_100GeV_0p25GeV_0p02mm', '4mu_100GeV_1p2GeV_0p096mm', '4mu_100GeV_5GeV_0p4mm', '4mu_150GeV_0p25GeV_0p013mm', '4mu_150GeV_1p2GeV_0p064mm', '4mu_150GeV_5GeV_0p27mm', '4mu_200GeV_0p25GeV_0p01mm', '4mu_200GeV_1p2GeV_0p048mm', '4mu_200GeV_5GeV_0p2mm', '4mu_500GeV_0p25GeV_0p004mm', '4mu_500GeV_1p2GeV_0p019mm', '4mu_500GeV_5GeV_0p08mm', '4mu_800GeV_0p25GeV_0p0025mm', '4mu_800GeV_1p2GeV_0p012mm', '4mu_800GeV_5GeV_0p05mm', '4mu_1000GeV_1p2GeV_0p0096mm', '4mu_1000GeV_5GeV_0p04mm']\n"
     ]
    }
   ],
   "source": [
    "samples = []\n",
    "samples = samples + bg_samples\n",
    "for sublist in samples_sublists:\n",
    "    print(sublist[0])\n",
    "    samples = samples + [sublist[0]]\n",
    "print(samples)"
   ]
  },
  {
   "cell_type": "code",
   "execution_count": 5,
   "id": "d7f7481d-3859-4787-8fd6-b9db27415379",
   "metadata": {
    "tags": []
   },
   "outputs": [],
   "source": [
    "fileset = utilities.make_fileset(samples, \"llpNanoAOD_v2\", max_files=2)"
   ]
  },
  {
   "cell_type": "code",
   "execution_count": 6,
   "id": "83d69c7f-95b6-4e6a-930e-baa50b7eb410",
   "metadata": {
    "tags": []
   },
   "outputs": [
    {
     "data": {
      "application/vnd.jupyter.widget-view+json": {
       "model_id": "1f70bc8be8134e78b32b7ebb63a5b9d5",
       "version_major": 2,
       "version_minor": 0
      },
      "text/plain": [
       "Output()"
      ]
     },
     "metadata": {},
     "output_type": "display_data"
    },
    {
     "data": {
      "text/html": [
       "<pre style=\"white-space:pre;overflow-x:auto;line-height:normal;font-family:Menlo,'DejaVu Sans Mono',consolas,'Courier New',monospace\"></pre>\n"
      ],
      "text/plain": []
     },
     "metadata": {},
     "output_type": "display_data"
    },
    {
     "data": {
      "text/html": [
       "<pre style=\"white-space:pre;overflow-x:auto;line-height:normal;font-family:Menlo,'DejaVu Sans Mono',consolas,'Courier New',monospace\">\n",
       "</pre>\n"
      ],
      "text/plain": [
       "\n"
      ]
     },
     "metadata": {},
     "output_type": "display_data"
    },
    {
     "data": {
      "application/vnd.jupyter.widget-view+json": {
       "model_id": "c58b9a4dad5d4bcba0cd8fb2fe0f7e5c",
       "version_major": 2,
       "version_minor": 0
      },
      "text/plain": [
       "Output()"
      ]
     },
     "metadata": {},
     "output_type": "display_data"
    },
    {
     "data": {
      "text/html": [
       "<pre style=\"white-space:pre;overflow-x:auto;line-height:normal;font-family:Menlo,'DejaVu Sans Mono',consolas,'Courier New',monospace\">Not applying any cuts to the lepton jets for channel baseNoLj\n",
       "</pre>\n"
      ],
      "text/plain": [
       "Not applying any cuts to the lepton jets for channel baseNoLj\n"
      ]
     },
     "metadata": {},
     "output_type": "display_data"
    },
    {
     "data": {
      "text/html": [
       "<pre style=\"white-space:pre;overflow-x:auto;line-height:normal;font-family:Menlo,'DejaVu Sans Mono',consolas,'Courier New',monospace\">/opt/conda/lib/python3.9/site-packages/awkward/_connect/_numpy.py:195: RuntimeWarning: invalid value encountered in\n",
       "divide\n",
       "  result = getattr(ufunc, method)(\n",
       "</pre>\n"
      ],
      "text/plain": [
       "/opt/conda/lib/python3.9/site-packages/awkward/_connect/_numpy.py:195: RuntimeWarning: invalid value encountered in\n",
       "divide\n",
       "  result = getattr(ufunc, method)(\n"
      ]
     },
     "metadata": {},
     "output_type": "display_data"
    },
    {
     "name": "stdout",
     "output_type": "stream",
     "text": [
      "#--------------------------------------------------------------------------\n",
      "#                         FastJet release 3.4.0\n",
      "#                 M. Cacciari, G.P. Salam and G. Soyez                  \n",
      "#     A software package for jet finding and analysis at colliders      \n",
      "#                           http://fastjet.fr                           \n",
      "#\t                                                                      \n",
      "# Please cite EPJC72(2012)1896 [arXiv:1111.6097] if you use this package\n",
      "# for scientific work and optionally PLB641(2006)57 [hep-ph/0512210].   \n",
      "#                                                                       \n",
      "# FastJet is provided without warranty under the GNU GPL v2 or higher.  \n",
      "# It uses T. Chan's closest pair algorithm, S. Fortune's Voronoi code,\n",
      "# CGAL and 3rd party plugin jet algorithms. See COPYING file for details.\n",
      "#--------------------------------------------------------------------------\n"
     ]
    },
    {
     "data": {
      "text/html": [
       "<pre style=\"white-space:pre;overflow-x:auto;line-height:normal;font-family:Menlo,'DejaVu Sans Mono',consolas,'Courier New',monospace\">Not applying any cuts to the lepton jets for channel baseNoLj\n",
       "</pre>\n"
      ],
      "text/plain": [
       "Not applying any cuts to the lepton jets for channel baseNoLj\n"
      ]
     },
     "metadata": {},
     "output_type": "display_data"
    },
    {
     "data": {
      "text/html": [
       "<pre style=\"white-space:pre;overflow-x:auto;line-height:normal;font-family:Menlo,'DejaVu Sans Mono',consolas,'Courier New',monospace\">Not applying any cuts to the lepton jets for channel baseNoLj\n",
       "</pre>\n"
      ],
      "text/plain": [
       "Not applying any cuts to the lepton jets for channel baseNoLj\n"
      ]
     },
     "metadata": {},
     "output_type": "display_data"
    },
    {
     "data": {
      "text/html": [
       "<pre style=\"white-space:pre;overflow-x:auto;line-height:normal;font-family:Menlo,'DejaVu Sans Mono',consolas,'Courier New',monospace\">Not applying any cuts to the lepton jets for channel baseNoLj\n",
       "</pre>\n"
      ],
      "text/plain": [
       "Not applying any cuts to the lepton jets for channel baseNoLj\n"
      ]
     },
     "metadata": {},
     "output_type": "display_data"
    },
    {
     "data": {
      "text/html": [
       "<pre style=\"white-space:pre;overflow-x:auto;line-height:normal;font-family:Menlo,'DejaVu Sans Mono',consolas,'Courier New',monospace\">Not applying any cuts to the lepton jets for channel baseNoLj\n",
       "</pre>\n"
      ],
      "text/plain": [
       "Not applying any cuts to the lepton jets for channel baseNoLj\n"
      ]
     },
     "metadata": {},
     "output_type": "display_data"
    },
    {
     "data": {
      "text/html": [
       "<pre style=\"white-space:pre;overflow-x:auto;line-height:normal;font-family:Menlo,'DejaVu Sans Mono',consolas,'Courier New',monospace\">Not applying any cuts to the lepton jets for channel baseNoLj\n",
       "</pre>\n"
      ],
      "text/plain": [
       "Not applying any cuts to the lepton jets for channel baseNoLj\n"
      ]
     },
     "metadata": {},
     "output_type": "display_data"
    },
    {
     "data": {
      "text/html": [
       "<pre style=\"white-space:pre;overflow-x:auto;line-height:normal;font-family:Menlo,'DejaVu Sans Mono',consolas,'Courier New',monospace\">Not applying any cuts to the lepton jets for channel baseNoLj\n",
       "</pre>\n"
      ],
      "text/plain": [
       "Not applying any cuts to the lepton jets for channel baseNoLj\n"
      ]
     },
     "metadata": {},
     "output_type": "display_data"
    },
    {
     "data": {
      "text/html": [
       "<pre style=\"white-space:pre;overflow-x:auto;line-height:normal;font-family:Menlo,'DejaVu Sans Mono',consolas,'Courier New',monospace\">Not applying any cuts to the lepton jets for channel baseNoLj\n",
       "</pre>\n"
      ],
      "text/plain": [
       "Not applying any cuts to the lepton jets for channel baseNoLj\n"
      ]
     },
     "metadata": {},
     "output_type": "display_data"
    },
    {
     "data": {
      "text/html": [
       "<pre style=\"white-space:pre;overflow-x:auto;line-height:normal;font-family:Menlo,'DejaVu Sans Mono',consolas,'Courier New',monospace\">Not applying any cuts to the lepton jets for channel baseNoLj\n",
       "</pre>\n"
      ],
      "text/plain": [
       "Not applying any cuts to the lepton jets for channel baseNoLj\n"
      ]
     },
     "metadata": {},
     "output_type": "display_data"
    },
    {
     "data": {
      "text/html": [
       "<pre style=\"white-space:pre;overflow-x:auto;line-height:normal;font-family:Menlo,'DejaVu Sans Mono',consolas,'Courier New',monospace\">Not applying any cuts to the lepton jets for channel baseNoLj\n",
       "</pre>\n"
      ],
      "text/plain": [
       "Not applying any cuts to the lepton jets for channel baseNoLj\n"
      ]
     },
     "metadata": {},
     "output_type": "display_data"
    },
    {
     "data": {
      "text/html": [
       "<pre style=\"white-space:pre;overflow-x:auto;line-height:normal;font-family:Menlo,'DejaVu Sans Mono',consolas,'Courier New',monospace\">Not applying any cuts to the lepton jets for channel baseNoLj\n",
       "</pre>\n"
      ],
      "text/plain": [
       "Not applying any cuts to the lepton jets for channel baseNoLj\n"
      ]
     },
     "metadata": {},
     "output_type": "display_data"
    },
    {
     "data": {
      "text/html": [
       "<pre style=\"white-space:pre;overflow-x:auto;line-height:normal;font-family:Menlo,'DejaVu Sans Mono',consolas,'Courier New',monospace\">Not applying any cuts to the lepton jets for channel baseNoLj\n",
       "</pre>\n"
      ],
      "text/plain": [
       "Not applying any cuts to the lepton jets for channel baseNoLj\n"
      ]
     },
     "metadata": {},
     "output_type": "display_data"
    },
    {
     "data": {
      "text/html": [
       "<pre style=\"white-space:pre;overflow-x:auto;line-height:normal;font-family:Menlo,'DejaVu Sans Mono',consolas,'Courier New',monospace\">Not applying any cuts to the lepton jets for channel baseNoLj\n",
       "</pre>\n"
      ],
      "text/plain": [
       "Not applying any cuts to the lepton jets for channel baseNoLj\n"
      ]
     },
     "metadata": {},
     "output_type": "display_data"
    },
    {
     "data": {
      "text/html": [
       "<pre style=\"white-space:pre;overflow-x:auto;line-height:normal;font-family:Menlo,'DejaVu Sans Mono',consolas,'Courier New',monospace\">Not applying any cuts to the lepton jets for channel baseNoLj\n",
       "</pre>\n"
      ],
      "text/plain": [
       "Not applying any cuts to the lepton jets for channel baseNoLj\n"
      ]
     },
     "metadata": {},
     "output_type": "display_data"
    },
    {
     "data": {
      "text/html": [
       "<pre style=\"white-space:pre;overflow-x:auto;line-height:normal;font-family:Menlo,'DejaVu Sans Mono',consolas,'Courier New',monospace\">Not applying any cuts to the lepton jets for channel baseNoLj\n",
       "</pre>\n"
      ],
      "text/plain": [
       "Not applying any cuts to the lepton jets for channel baseNoLj\n"
      ]
     },
     "metadata": {},
     "output_type": "display_data"
    },
    {
     "data": {
      "text/html": [
       "<pre style=\"white-space:pre;overflow-x:auto;line-height:normal;font-family:Menlo,'DejaVu Sans Mono',consolas,'Courier New',monospace\">Not applying any cuts to the lepton jets for channel baseNoLj\n",
       "</pre>\n"
      ],
      "text/plain": [
       "Not applying any cuts to the lepton jets for channel baseNoLj\n"
      ]
     },
     "metadata": {},
     "output_type": "display_data"
    },
    {
     "data": {
      "text/html": [
       "<pre style=\"white-space:pre;overflow-x:auto;line-height:normal;font-family:Menlo,'DejaVu Sans Mono',consolas,'Courier New',monospace\">Not applying any cuts to the lepton jets for channel baseNoLj\n",
       "</pre>\n"
      ],
      "text/plain": [
       "Not applying any cuts to the lepton jets for channel baseNoLj\n"
      ]
     },
     "metadata": {},
     "output_type": "display_data"
    },
    {
     "data": {
      "text/html": [
       "<pre style=\"white-space:pre;overflow-x:auto;line-height:normal;font-family:Menlo,'DejaVu Sans Mono',consolas,'Courier New',monospace\">Not applying any cuts to the lepton jets for channel baseNoLj\n",
       "</pre>\n"
      ],
      "text/plain": [
       "Not applying any cuts to the lepton jets for channel baseNoLj\n"
      ]
     },
     "metadata": {},
     "output_type": "display_data"
    },
    {
     "data": {
      "text/html": [
       "<pre style=\"white-space:pre;overflow-x:auto;line-height:normal;font-family:Menlo,'DejaVu Sans Mono',consolas,'Courier New',monospace\">Not applying any cuts to the lepton jets for channel baseNoLj\n",
       "</pre>\n"
      ],
      "text/plain": [
       "Not applying any cuts to the lepton jets for channel baseNoLj\n"
      ]
     },
     "metadata": {},
     "output_type": "display_data"
    },
    {
     "data": {
      "text/html": [
       "<pre style=\"white-space:pre;overflow-x:auto;line-height:normal;font-family:Menlo,'DejaVu Sans Mono',consolas,'Courier New',monospace\">Not applying any cuts to the lepton jets for channel baseNoLj\n",
       "</pre>\n"
      ],
      "text/plain": [
       "Not applying any cuts to the lepton jets for channel baseNoLj\n"
      ]
     },
     "metadata": {},
     "output_type": "display_data"
    },
    {
     "data": {
      "text/html": [
       "<pre style=\"white-space:pre;overflow-x:auto;line-height:normal;font-family:Menlo,'DejaVu Sans Mono',consolas,'Courier New',monospace\">Not applying any cuts to the lepton jets for channel baseNoLj\n",
       "</pre>\n"
      ],
      "text/plain": [
       "Not applying any cuts to the lepton jets for channel baseNoLj\n"
      ]
     },
     "metadata": {},
     "output_type": "display_data"
    },
    {
     "data": {
      "text/html": [
       "<pre style=\"white-space:pre;overflow-x:auto;line-height:normal;font-family:Menlo,'DejaVu Sans Mono',consolas,'Courier New',monospace\">Not applying any cuts to the lepton jets for channel baseNoLj\n",
       "</pre>\n"
      ],
      "text/plain": [
       "Not applying any cuts to the lepton jets for channel baseNoLj\n"
      ]
     },
     "metadata": {},
     "output_type": "display_data"
    },
    {
     "data": {
      "text/html": [
       "<pre style=\"white-space:pre;overflow-x:auto;line-height:normal;font-family:Menlo,'DejaVu Sans Mono',consolas,'Courier New',monospace\">Not applying any cuts to the lepton jets for channel baseNoLj\n",
       "</pre>\n"
      ],
      "text/plain": [
       "Not applying any cuts to the lepton jets for channel baseNoLj\n"
      ]
     },
     "metadata": {},
     "output_type": "display_data"
    },
    {
     "data": {
      "text/html": [
       "<pre style=\"white-space:pre;overflow-x:auto;line-height:normal;font-family:Menlo,'DejaVu Sans Mono',consolas,'Courier New',monospace\">Not applying any cuts to the lepton jets for channel baseNoLj\n",
       "</pre>\n"
      ],
      "text/plain": [
       "Not applying any cuts to the lepton jets for channel baseNoLj\n"
      ]
     },
     "metadata": {},
     "output_type": "display_data"
    },
    {
     "data": {
      "text/html": [
       "<pre style=\"white-space:pre;overflow-x:auto;line-height:normal;font-family:Menlo,'DejaVu Sans Mono',consolas,'Courier New',monospace\">Not applying any cuts to the lepton jets for channel baseNoLj\n",
       "</pre>\n"
      ],
      "text/plain": [
       "Not applying any cuts to the lepton jets for channel baseNoLj\n"
      ]
     },
     "metadata": {},
     "output_type": "display_data"
    },
    {
     "data": {
      "text/html": [
       "<pre style=\"white-space:pre;overflow-x:auto;line-height:normal;font-family:Menlo,'DejaVu Sans Mono',consolas,'Courier New',monospace\">Not applying any cuts to the lepton jets for channel baseNoLj\n",
       "</pre>\n"
      ],
      "text/plain": [
       "Not applying any cuts to the lepton jets for channel baseNoLj\n"
      ]
     },
     "metadata": {},
     "output_type": "display_data"
    },
    {
     "data": {
      "text/html": [
       "<pre style=\"white-space:pre;overflow-x:auto;line-height:normal;font-family:Menlo,'DejaVu Sans Mono',consolas,'Courier New',monospace\">Not applying any cuts to the lepton jets for channel baseNoLj\n",
       "</pre>\n"
      ],
      "text/plain": [
       "Not applying any cuts to the lepton jets for channel baseNoLj\n"
      ]
     },
     "metadata": {},
     "output_type": "display_data"
    },
    {
     "data": {
      "text/html": [
       "<pre style=\"white-space:pre;overflow-x:auto;line-height:normal;font-family:Menlo,'DejaVu Sans Mono',consolas,'Courier New',monospace\">Not applying any cuts to the lepton jets for channel baseNoLj\n",
       "</pre>\n"
      ],
      "text/plain": [
       "Not applying any cuts to the lepton jets for channel baseNoLj\n"
      ]
     },
     "metadata": {},
     "output_type": "display_data"
    },
    {
     "data": {
      "text/html": [
       "<pre style=\"white-space:pre;overflow-x:auto;line-height:normal;font-family:Menlo,'DejaVu Sans Mono',consolas,'Courier New',monospace\">Not applying any cuts to the lepton jets for channel baseNoLj\n",
       "</pre>\n"
      ],
      "text/plain": [
       "Not applying any cuts to the lepton jets for channel baseNoLj\n"
      ]
     },
     "metadata": {},
     "output_type": "display_data"
    },
    {
     "data": {
      "text/html": [
       "<pre style=\"white-space:pre;overflow-x:auto;line-height:normal;font-family:Menlo,'DejaVu Sans Mono',consolas,'Courier New',monospace\">Not applying any cuts to the lepton jets for channel baseNoLj\n",
       "</pre>\n"
      ],
      "text/plain": [
       "Not applying any cuts to the lepton jets for channel baseNoLj\n"
      ]
     },
     "metadata": {},
     "output_type": "display_data"
    },
    {
     "data": {
      "text/html": [
       "<pre style=\"white-space:pre;overflow-x:auto;line-height:normal;font-family:Menlo,'DejaVu Sans Mono',consolas,'Courier New',monospace\">Not applying any cuts to the lepton jets for channel baseNoLj\n",
       "</pre>\n"
      ],
      "text/plain": [
       "Not applying any cuts to the lepton jets for channel baseNoLj\n"
      ]
     },
     "metadata": {},
     "output_type": "display_data"
    },
    {
     "data": {
      "text/html": [
       "<pre style=\"white-space:pre;overflow-x:auto;line-height:normal;font-family:Menlo,'DejaVu Sans Mono',consolas,'Courier New',monospace\">Not applying any cuts to the lepton jets for channel baseNoLj\n",
       "</pre>\n"
      ],
      "text/plain": [
       "Not applying any cuts to the lepton jets for channel baseNoLj\n"
      ]
     },
     "metadata": {},
     "output_type": "display_data"
    },
    {
     "data": {
      "text/html": [
       "<pre style=\"white-space:pre;overflow-x:auto;line-height:normal;font-family:Menlo,'DejaVu Sans Mono',consolas,'Courier New',monospace\">Not applying any cuts to the lepton jets for channel baseNoLj\n",
       "</pre>\n"
      ],
      "text/plain": [
       "Not applying any cuts to the lepton jets for channel baseNoLj\n"
      ]
     },
     "metadata": {},
     "output_type": "display_data"
    },
    {
     "data": {
      "text/html": [
       "<pre style=\"white-space:pre;overflow-x:auto;line-height:normal;font-family:Menlo,'DejaVu Sans Mono',consolas,'Courier New',monospace\">Not applying any cuts to the lepton jets for channel baseNoLj\n",
       "</pre>\n"
      ],
      "text/plain": [
       "Not applying any cuts to the lepton jets for channel baseNoLj\n"
      ]
     },
     "metadata": {},
     "output_type": "display_data"
    },
    {
     "data": {
      "text/html": [
       "<pre style=\"white-space:pre;overflow-x:auto;line-height:normal;font-family:Menlo,'DejaVu Sans Mono',consolas,'Courier New',monospace\">Not applying any cuts to the lepton jets for channel baseNoLj\n",
       "</pre>\n"
      ],
      "text/plain": [
       "Not applying any cuts to the lepton jets for channel baseNoLj\n"
      ]
     },
     "metadata": {},
     "output_type": "display_data"
    },
    {
     "data": {
      "text/html": [
       "<pre style=\"white-space:pre;overflow-x:auto;line-height:normal;font-family:Menlo,'DejaVu Sans Mono',consolas,'Courier New',monospace\">/opt/conda/lib/python3.9/site-packages/awkward/_connect/_numpy.py:195: RuntimeWarning: divide by zero encountered \n",
       "in divide\n",
       "  result = getattr(ufunc, method)(\n",
       "</pre>\n"
      ],
      "text/plain": [
       "/opt/conda/lib/python3.9/site-packages/awkward/_connect/_numpy.py:195: RuntimeWarning: divide by zero encountered \n",
       "in divide\n",
       "  result = getattr(ufunc, method)(\n"
      ]
     },
     "metadata": {},
     "output_type": "display_data"
    },
    {
     "data": {
      "text/html": [
       "<pre style=\"white-space:pre;overflow-x:auto;line-height:normal;font-family:Menlo,'DejaVu Sans Mono',consolas,'Courier New',monospace\">Not applying any cuts to the lepton jets for channel baseNoLj\n",
       "</pre>\n"
      ],
      "text/plain": [
       "Not applying any cuts to the lepton jets for channel baseNoLj\n"
      ]
     },
     "metadata": {},
     "output_type": "display_data"
    },
    {
     "data": {
      "text/html": [
       "<pre style=\"white-space:pre;overflow-x:auto;line-height:normal;font-family:Menlo,'DejaVu Sans Mono',consolas,'Courier New',monospace\"></pre>\n"
      ],
      "text/plain": []
     },
     "metadata": {},
     "output_type": "display_data"
    },
    {
     "data": {
      "text/html": [
       "<pre style=\"white-space:pre;overflow-x:auto;line-height:normal;font-family:Menlo,'DejaVu Sans Mono',consolas,'Courier New',monospace\">\n",
       "</pre>\n"
      ],
      "text/plain": [
       "\n"
      ]
     },
     "metadata": {},
     "output_type": "display_data"
    }
   ],
   "source": [
    "runner = processor.Runner(\n",
    "    executor=processor.IterativeExecutor(),\n",
    "    #executor=processor.DaskExecutor(),\n",
    "    #executor=processor.FuturesExecutor(),\n",
    "    schema=NanoAODSchema,\n",
    "    # maxchunks=1,\n",
    ")\n",
    "\n",
    "hist_menu = utilities.load_yaml(\"../configs/hist_collections.yaml\")\n",
    "hist_choice = \"base\"\n",
    "collection = utilities.flatten(hist_menu[hist_choice]) #To change the histograms used, swap \"base\" for the other collections\n",
    "p = sidm_processor.SidmProcessor(\n",
    "    [\n",
    "        \"base\",\n",
    "        \"baseNoLj\",\n",
    "        \"4mu\", # basic cuts + 4mu requirement\n",
    "        \"matchedLj\", # strict cuts on lj objects\n",
    "        \"4mu_matchedLj\",\n",
    "    ],\n",
    "    [hist_choice],\n",
    "    lj_reco_choices=[\"0.4\"],\n",
    "    llpnanoaod=True,\n",
    ")\n",
    "output = runner.run(fileset, treename='Events', processor_instance=p)\n",
    "out = output[\"out\"]"
   ]
  },
  {
   "cell_type": "code",
   "execution_count": 7,
   "id": "fae85cc2-bff4-4083-bc9a-d98b8f4f63d8",
   "metadata": {
    "tags": []
   },
   "outputs": [
    {
     "name": "stdout",
     "output_type": "stream",
     "text": [
      "\n",
      "cut name        Total cuts:\n",
      "                      TTJets\n",
      "------------  --------------\n",
      "No selection        77933.00\n",
      "PV filter           77790.00\n",
      ">=2 LJs              1062.00\n",
      "4mu                     2.00\n",
      "\n"
     ]
    }
   ],
   "source": [
    "cutflow.print_multi_table([out[samples[0]][\"cutflow\"][\"4mu\"]], [samples[0]], fraction=False, unweighted=False)"
   ]
  },
  {
   "cell_type": "code",
   "execution_count": 8,
   "id": "4c2e6ac6-cd4a-4c61-bb43-15e6341d5ecd",
   "metadata": {
    "tags": []
   },
   "outputs": [
    {
     "data": {
      "text/plain": [
       "<matplotlib.legend.Legend at 0x7fe8bb69efa0>"
      ]
     },
     "execution_count": 8,
     "metadata": {},
     "output_type": "execute_result"
    },
    {
     "data": {
      "image/png": "[encoded data removed]",
      "text/plain": [
       "<Figure size 1400x700 with 2 Axes>"
      ]
     },
     "metadata": {},
     "output_type": "display_data"
    }
   ],
   "source": [
    "plt.subplots(1,2,figsize=(14,7))\n",
    "plt.subplot(1,2,1)\n",
    "for sample in samples:\n",
    "    utilities.plot(out[sample][\"hists\"][\"lj_lj_invmass\"][\"base\", :], flow='none', density=True)\n",
    "plt.legend(samples, loc=1, prop={'size': 5}, ncol=2)\n",
    "plt.subplot(1,2,2)\n",
    "for sample in samples:\n",
    "    utilities.plot(out[sample][\"hists\"][\"lj_lj_absdphi\"][\"base\", :], flow='none', density=True)\n",
    "plt.legend(samples, loc=2, prop={'size': 6})"
   ]
  }
 ],
 "metadata": {
  "kernelspec": {
   "display_name": "Python 3 (ipykernel)",
   "language": "python",
   "name": "python3"
  },
  "language_info": {
   "codemirror_mode": {
    "name": "ipython",
    "version": 3
   },
   "file_extension": ".py",
   "mimetype": "text/x-python",
   "name": "python",
   "nbconvert_exporter": "python",
   "pygments_lexer": "ipython3",
   "version": "3.9.18"
  }
 },
 "nbformat": 4,
 "nbformat_minor": 5
}
